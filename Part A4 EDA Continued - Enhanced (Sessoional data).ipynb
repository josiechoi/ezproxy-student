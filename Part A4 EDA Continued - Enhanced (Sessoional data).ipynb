{
 "cells": [
  {
   "cell_type": "raw",
   "metadata": {},
   "source": [
    "<script>\n",
    "  function code_toggle() {\n",
    "    if (code_shown){\n",
    "      $('div.input').hide('500');\n",
    "      $('#toggleButton').val('Show Code')\n",
    "    } else {\n",
    "      $('div.input').show('500');\n",
    "      $('#toggleButton').val('Hide Code')\n",
    "    }\n",
    "    code_shown = !code_shown\n",
    "  }\n",
    "\n",
    "  $( document ).ready(function(){\n",
    "    code_shown=false;\n",
    "    $('div.input').hide()\n",
    "  });\n",
    "</script>\n",
    "<form action=\"javascript:code_toggle()\"><input type=\"submit\" id=\"toggleButton\" value=\"Show Code\"></form>\n"
   ]
  },
  {
   "cell_type": "markdown",
   "metadata": {},
   "source": [
    "# Exploratory Data Analysis (EDA) based on session data "
   ]
  },
  {
   "cell_type": "markdown",
   "metadata": {},
   "source": [
    "This notebook contains code that is used to analyze session data from academic year 2017-18"
   ]
  },
  {
   "cell_type": "markdown",
   "metadata": {},
   "source": [
    "## Analysis of a particular database "
   ]
  },
  {
   "cell_type": "markdown",
   "metadata": {},
   "source": [
    "The following code created a csv file that would be reimported for further analysis. \n",
    "The created sample file is in the folder \"sample_outcome\". It is called \"domain_acad_prog_prog_yr. Below is a sample outcome, which aggregate the user data by domain, faculty, academic program, and the program year\n"
   ]
  },
  {
   "cell_type": "code",
   "execution_count": 21,
   "metadata": {},
   "outputs": [],
   "source": [
    "import pandas as pd \n",
    "import matplotlib.pyplot as plt \n",
    "import seaborn as sns\n",
    "import numpy as np\n",
    "from pylab import *\n",
    "%matplotlib inline\n",
    "plt.style.use(\"fivethirtyeight\")\n"
   ]
  },
  {
   "cell_type": "code",
   "execution_count": 22,
   "metadata": {},
   "outputs": [
    {
     "name": "stderr",
     "output_type": "stream",
     "text": [
      "C:\\Users\\jochoi\\Anaconda3\\lib\\site-packages\\IPython\\core\\interactiveshell.py:2785: DtypeWarning: Columns (8,9,10,11,12) have mixed types. Specify dtype option on import or set low_memory=False.\n",
      "  interactivity=interactivity, compiler=compiler, result=result)\n"
     ]
    }
   ],
   "source": [
    "df=pd.read_csv(\"data/session1718.csv\")\n",
    "#df.head(2)\n",
    "#df.info()"
   ]
  },
  {
   "cell_type": "code",
   "execution_count": 23,
   "metadata": {},
   "outputs": [],
   "source": [
    "#plt.style.available\n",
    "df.drop(['Unnamed: 0','Usr_id'],axis=1,inplace=True)\n",
    "\n",
    "#df['acad_prog']=df['acad_prog'].fillna(\"staff\")\n",
    "#df['FT/PT']=df['FT/PT'].fillna(\"Not Applicable\")\n",
    "#df['Undergrad']=df['Undergrad'].fillna(\"Not Applicable\")\n",
    "df['user_id']=df['user_id'].astype(str)\n",
    "df['Faculty'] = df['Faculty'].astype(\"category\")\n",
    "df['access_date']=df['access_date'].astype('datetime64[ns]')\n",
    "df['on_or_off'] = df['on_or_off'].astype(\"category\")\n",
    "df['Undergrad'] = df['Undergrad'].astype(\"category\")\n",
    "df['PROGRAM_YEAR']=df['PROGRAM_YEAR'].astype('category')\n",
    "df['acad_prog']=df['acad_prog'].astype('category')\n",
    "df['domain']=df['domain'].astype('category')\n",
    "df['url']=df['url'].astype('category')\n",
    "df['FT/PT'] = df['FT/PT'].astype(\"category\")"
   ]
  },
  {
   "cell_type": "code",
   "execution_count": 24,
   "metadata": {},
   "outputs": [],
   "source": [
    "df.columns=['user_id','url','domain','on_or_off','access_date','total_per_session','prog_yr','FT/PT',\"acad_prog\",\"Undergrad\",'Faculty']"
   ]
  },
  {
   "cell_type": "markdown",
   "metadata": {},
   "source": [
    "\n"
   ]
  },
  {
   "cell_type": "markdown",
   "metadata": {},
   "source": []
  },
  {
   "cell_type": "code",
   "execution_count": 11,
   "metadata": {},
   "outputs": [
    {
     "data": {
      "text/plain": [
       "domain                         Faculty  acad_prog                      prog_yr\n",
       "18thcjournals.amdigital.co.uk  Arts     Arts and Contemporary Studies  1           1\n",
       "                                                                       4           1\n",
       "                                        Bachelor of Arts               1          12\n",
       "                                                                       2          11\n",
       "                                                                       3           2\n",
       "Name: prog_yr, dtype: int64"
      ]
     },
     "execution_count": 11,
     "metadata": {},
     "output_type": "execute_result"
    }
   ],
   "source": [
    "dfg=df.groupby([\"domain\",\"Faculty\",\"acad_prog\",'prog_yr'])['prog_yr'].count().fillna(0)\n",
    "dfg.to_csv(\"sample_outcome/domain_acad_prog_prog_yr1718.csv\")\n",
    "dfg.head(5)\n"
   ]
  },
  {
   "cell_type": "code",
   "execution_count": null,
   "metadata": {},
   "outputs": [],
   "source": []
  },
  {
   "cell_type": "markdown",
   "metadata": {},
   "source": [
    "A separate Excel file is created for two reasons. \n",
    "* For endusers: Librarians who feel more comfortable using MS Excel can conduct further analysis with this exported file\n",
    "* For ourselves: It reduces the process time, as this csv file would be much smaller. The code above only needs to be run once for each year and this could be used for future use.  "
   ]
  },
  {
   "cell_type": "markdown",
   "metadata": {},
   "source": [
    "The example below showed an example how this could be used for further analysis.\n",
    "Hypothetically speaking, if we decided to cancel ACS.org, we could want to identify the biggest user groups of this domain. \n",
    "The following code would help us do that. \n"
   ]
  },
  {
   "cell_type": "code",
   "execution_count": 12,
   "metadata": {},
   "outputs": [
    {
     "name": "stdout",
     "output_type": "stream",
     "text": [
      "The 10 academic program-program year using ACS the most\n"
     ]
    },
    {
     "data": {
      "text/html": [
       "<div>\n",
       "<style scoped>\n",
       "    .dataframe tbody tr th:only-of-type {\n",
       "        vertical-align: middle;\n",
       "    }\n",
       "\n",
       "    .dataframe tbody tr th {\n",
       "        vertical-align: top;\n",
       "    }\n",
       "\n",
       "    .dataframe thead th {\n",
       "        text-align: right;\n",
       "    }\n",
       "</style>\n",
       "<table border=\"1\" class=\"dataframe\">\n",
       "  <thead>\n",
       "    <tr style=\"text-align: right;\">\n",
       "      <th></th>\n",
       "      <th>Faculty</th>\n",
       "      <th>acad_prog</th>\n",
       "      <th>prog_yr</th>\n",
       "      <th>total</th>\n",
       "    </tr>\n",
       "    <tr>\n",
       "      <th>domain</th>\n",
       "      <th></th>\n",
       "      <th></th>\n",
       "      <th></th>\n",
       "      <th></th>\n",
       "    </tr>\n",
       "  </thead>\n",
       "  <tbody>\n",
       "    <tr>\n",
       "      <th>acs.org</th>\n",
       "      <td>Science</td>\n",
       "      <td>Bachelor of Science</td>\n",
       "      <td>2</td>\n",
       "      <td>1822</td>\n",
       "    </tr>\n",
       "    <tr>\n",
       "      <th>acs.org</th>\n",
       "      <td>Engineering and Architectural Sci</td>\n",
       "      <td>PhD Mech and Industrial Engr</td>\n",
       "      <td>G</td>\n",
       "      <td>1374</td>\n",
       "    </tr>\n",
       "    <tr>\n",
       "      <th>acs.org</th>\n",
       "      <td>Science</td>\n",
       "      <td>Bachelor of Science</td>\n",
       "      <td>4</td>\n",
       "      <td>1137</td>\n",
       "    </tr>\n",
       "    <tr>\n",
       "      <th>acs.org</th>\n",
       "      <td>Science</td>\n",
       "      <td>Bachelor of Science</td>\n",
       "      <td>3</td>\n",
       "      <td>1094</td>\n",
       "    </tr>\n",
       "    <tr>\n",
       "      <th>acs.org</th>\n",
       "      <td>Science</td>\n",
       "      <td>Bachelor of Science</td>\n",
       "      <td>1</td>\n",
       "      <td>921</td>\n",
       "    </tr>\n",
       "    <tr>\n",
       "      <th>acs.org</th>\n",
       "      <td>Science</td>\n",
       "      <td>Biomedical Sciences</td>\n",
       "      <td>1</td>\n",
       "      <td>811</td>\n",
       "    </tr>\n",
       "    <tr>\n",
       "      <th>acs.org</th>\n",
       "      <td>Engineering and Architectural Sci</td>\n",
       "      <td>Bachelor of Engineering</td>\n",
       "      <td>4</td>\n",
       "      <td>800</td>\n",
       "    </tr>\n",
       "  </tbody>\n",
       "</table>\n",
       "</div>"
      ],
      "text/plain": [
       "                                   Faculty                     acad_prog  \\\n",
       "domain                                                                     \n",
       "acs.org                            Science           Bachelor of Science   \n",
       "acs.org  Engineering and Architectural Sci  PhD Mech and Industrial Engr   \n",
       "acs.org                            Science           Bachelor of Science   \n",
       "acs.org                            Science           Bachelor of Science   \n",
       "acs.org                            Science           Bachelor of Science   \n",
       "acs.org                            Science           Biomedical Sciences   \n",
       "acs.org  Engineering and Architectural Sci       Bachelor of Engineering   \n",
       "\n",
       "        prog_yr  total  \n",
       "domain                  \n",
       "acs.org       2   1822  \n",
       "acs.org       G   1374  \n",
       "acs.org       4   1137  \n",
       "acs.org       3   1094  \n",
       "acs.org       1    921  \n",
       "acs.org       1    811  \n",
       "acs.org       4    800  "
      ]
     },
     "metadata": {},
     "output_type": "display_data"
    }
   ],
   "source": [
    "dap=pd.read_csv(\"sample_outcome/domain_acad_prog_prog_yr.csv\",names=['domain','Faculty','acad_prog',\"prog_yr\",'total'])\n",
    "dap=dap.set_index(\"domain\")\n",
    "dap.head()\n",
    "\n",
    "dapfilter=dap.filter(like=\"acs\",axis=0)\n",
    "print(\"The 10 academic program-program year using ACS the most\")\n",
    "display(dapfilter.sort_values(by='total',ascending=False)[:7])\n",
    "#display(dap[dap['domain']==\"heinonline.com\"])\n"
   ]
  },
  {
   "cell_type": "markdown",
   "metadata": {},
   "source": [
    "## Overall/number of unique users\n",
    "\n",
    "The following section analyzed the academic programs that have highest usages.\n"
   ]
  },
  {
   "cell_type": "code",
   "execution_count": 92,
   "metadata": {},
   "outputs": [
    {
     "name": "stdout",
     "output_type": "stream",
     "text": [
      "Biggest 15 user group (Number of potential users)\n"
     ]
    },
    {
     "data": {
      "text/html": [
       "<div>\n",
       "<style scoped>\n",
       "    .dataframe tbody tr th:only-of-type {\n",
       "        vertical-align: middle;\n",
       "    }\n",
       "\n",
       "    .dataframe tbody tr th {\n",
       "        vertical-align: top;\n",
       "    }\n",
       "\n",
       "    .dataframe thead th {\n",
       "        text-align: right;\n",
       "    }\n",
       "</style>\n",
       "<table border=\"1\" class=\"dataframe\">\n",
       "  <thead>\n",
       "    <tr style=\"text-align: right;\">\n",
       "      <th></th>\n",
       "      <th>acad_prog</th>\n",
       "      <th>PotentialUsers</th>\n",
       "    </tr>\n",
       "  </thead>\n",
       "  <tbody>\n",
       "    <tr>\n",
       "      <th>0</th>\n",
       "      <td>Business Management</td>\n",
       "      <td>6539</td>\n",
       "    </tr>\n",
       "    <tr>\n",
       "      <th>1</th>\n",
       "      <td>Bachelor of Engineering</td>\n",
       "      <td>4811</td>\n",
       "    </tr>\n",
       "    <tr>\n",
       "      <th>2</th>\n",
       "      <td>MASC Aerospace Engineering</td>\n",
       "      <td>2</td>\n",
       "    </tr>\n",
       "    <tr>\n",
       "      <th>3</th>\n",
       "      <td>Bachelor of Arts</td>\n",
       "      <td>3695</td>\n",
       "    </tr>\n",
       "    <tr>\n",
       "      <th>4</th>\n",
       "      <td>Business Technology Mgt.</td>\n",
       "      <td>1744</td>\n",
       "    </tr>\n",
       "  </tbody>\n",
       "</table>\n",
       "</div>"
      ],
      "text/plain": [
       "                    acad_prog  PotentialUsers\n",
       "0         Business Management            6539\n",
       "1     Bachelor of Engineering            4811\n",
       "2  MASC Aerospace Engineering               2\n",
       "3            Bachelor of Arts            3695\n",
       "4    Business Technology Mgt.            1744"
      ]
     },
     "execution_count": 92,
     "metadata": {},
     "output_type": "execute_result"
    }
   ],
   "source": [
    "print(\"Biggest 15 user group (Number of potential users)\")\n",
    "\n",
    "dfs=pd.read_excel(\"/data/acad_prog.xlsx\")\n",
    "dfs.head()\n",
    "dfstd=pd.read_csv('data/student1718.csv')\n",
    "#print(dfs.sort_values(ascending=False)[:15])\n",
    "dfstd=dfstd.groupby(['ACAD_PROG_DESCR'])['USERNAME'].count()\n",
    "dfs.drop(['1','2','3','4','G','Grandtotal','FT/PT'],axis=1,inplace=True)\n",
    "dfstd=pd.DataFrame(dfstd)\n",
    "dfstudent=pd.merge(dfs,dfstd,left_on='acad_prog',right_on=\"ACAD_PROG_DESCR\",how='right')\n",
    "dfs=dfstudent.drop(['acad_prog','Undergrad','Faculty'],axis=1)\n",
    "dfs=pd.DataFrame(dfs)\n",
    "dfs.columns=['acad_prog','PotentialUsers']\n",
    "dfs.head()"
   ]
  },
  {
   "cell_type": "code",
   "execution_count": 93,
   "metadata": {},
   "outputs": [
    {
     "name": "stdout",
     "output_type": "stream",
     "text": [
      "Number of active users of each academic program\n"
     ]
    },
    {
     "data": {
      "text/html": [
       "<div>\n",
       "<style scoped>\n",
       "    .dataframe tbody tr th:only-of-type {\n",
       "        vertical-align: middle;\n",
       "    }\n",
       "\n",
       "    .dataframe tbody tr th {\n",
       "        vertical-align: top;\n",
       "    }\n",
       "\n",
       "    .dataframe thead th {\n",
       "        text-align: right;\n",
       "    }\n",
       "</style>\n",
       "<table border=\"1\" class=\"dataframe\">\n",
       "  <thead>\n",
       "    <tr style=\"text-align: right;\">\n",
       "      <th></th>\n",
       "      <th>acad_prog</th>\n",
       "      <th>ActiveUsers</th>\n",
       "    </tr>\n",
       "  </thead>\n",
       "  <tbody>\n",
       "    <tr>\n",
       "      <th>0</th>\n",
       "      <td>Accounting and Finance</td>\n",
       "      <td>997</td>\n",
       "    </tr>\n",
       "    <tr>\n",
       "      <th>1</th>\n",
       "      <td>Architectural Science</td>\n",
       "      <td>504</td>\n",
       "    </tr>\n",
       "    <tr>\n",
       "      <th>2</th>\n",
       "      <td>Arts and Contemporary Studies</td>\n",
       "      <td>403</td>\n",
       "    </tr>\n",
       "    <tr>\n",
       "      <th>3</th>\n",
       "      <td>Bachelor of Arts</td>\n",
       "      <td>3616</td>\n",
       "    </tr>\n",
       "    <tr>\n",
       "      <th>4</th>\n",
       "      <td>Bachelor of Engineering</td>\n",
       "      <td>3621</td>\n",
       "    </tr>\n",
       "  </tbody>\n",
       "</table>\n",
       "</div>"
      ],
      "text/plain": [
       "                       acad_prog  ActiveUsers\n",
       "0         Accounting and Finance          997\n",
       "1          Architectural Science          504\n",
       "2  Arts and Contemporary Studies          403\n",
       "3               Bachelor of Arts         3616\n",
       "4        Bachelor of Engineering         3621"
      ]
     },
     "execution_count": 93,
     "metadata": {},
     "output_type": "execute_result"
    }
   ],
   "source": [
    "\n",
    "print(\"Number of active users of each academic program\")\n",
    "\n",
    "dfu=pd.DataFrame(df.groupby('acad_prog')['user_id'].nunique())\n",
    "dfu=dfu.reset_index()\n",
    "dfu.columns=['acad_prog','ActiveUsers']\n",
    "\n",
    "#TopUnique=dfu.sort_values(by=1,ascending=False)[:5]\n",
    "\n",
    "dfu.head()\n",
    "#print(dfu.sort_values(ascending=False,by=1)[:15])\n",
    "\n"
   ]
  },
  {
   "cell_type": "code",
   "execution_count": 95,
   "metadata": {},
   "outputs": [
    {
     "data": {
      "text/html": [
       "<div>\n",
       "<style scoped>\n",
       "    .dataframe tbody tr th:only-of-type {\n",
       "        vertical-align: middle;\n",
       "    }\n",
       "\n",
       "    .dataframe tbody tr th {\n",
       "        vertical-align: top;\n",
       "    }\n",
       "\n",
       "    .dataframe thead th {\n",
       "        text-align: right;\n",
       "    }\n",
       "</style>\n",
       "<table border=\"1\" class=\"dataframe\">\n",
       "  <thead>\n",
       "    <tr style=\"text-align: right;\">\n",
       "      <th></th>\n",
       "      <th>acad_prog</th>\n",
       "      <th>PotentialUsers</th>\n",
       "    </tr>\n",
       "  </thead>\n",
       "  <tbody>\n",
       "    <tr>\n",
       "      <th>0</th>\n",
       "      <td>Accounting and Finance</td>\n",
       "      <td>1058</td>\n",
       "    </tr>\n",
       "    <tr>\n",
       "      <th>1</th>\n",
       "      <td>Architectural Science</td>\n",
       "      <td>520</td>\n",
       "    </tr>\n",
       "    <tr>\n",
       "      <th>2</th>\n",
       "      <td>Arts and Contemporary Studies</td>\n",
       "      <td>492</td>\n",
       "    </tr>\n",
       "    <tr>\n",
       "      <th>3</th>\n",
       "      <td>Bachelor of Arts</td>\n",
       "      <td>3695</td>\n",
       "    </tr>\n",
       "    <tr>\n",
       "      <th>4</th>\n",
       "      <td>Bachelor of Engineering</td>\n",
       "      <td>4812</td>\n",
       "    </tr>\n",
       "  </tbody>\n",
       "</table>\n",
       "</div>"
      ],
      "text/plain": [
       "                       acad_prog  PotentialUsers\n",
       "0         Accounting and Finance            1058\n",
       "1          Architectural Science             520\n",
       "2  Arts and Contemporary Studies             492\n",
       "3               Bachelor of Arts            3695\n",
       "4        Bachelor of Engineering            4812"
      ]
     },
     "execution_count": 95,
     "metadata": {},
     "output_type": "execute_result"
    }
   ],
   "source": [
    "#dfs.columns=['acad_prog','PotentialUsers']\n",
    "dfs=pd.DataFrame(dfs.groupby('acad_prog')['PotentialUsers'].sum())\n",
    "dfs=dfs.reset_index()\n",
    "dfs.head()"
   ]
  },
  {
   "cell_type": "markdown",
   "metadata": {},
   "source": [
    "As expected, our top active users are likely to come from the othe big potential user group"
   ]
  },
  {
   "cell_type": "code",
   "execution_count": 96,
   "metadata": {},
   "outputs": [
    {
     "data": {
      "text/html": [
       "<div>\n",
       "<style scoped>\n",
       "    .dataframe tbody tr th:only-of-type {\n",
       "        vertical-align: middle;\n",
       "    }\n",
       "\n",
       "    .dataframe tbody tr th {\n",
       "        vertical-align: top;\n",
       "    }\n",
       "\n",
       "    .dataframe thead th {\n",
       "        text-align: right;\n",
       "    }\n",
       "</style>\n",
       "<table border=\"1\" class=\"dataframe\">\n",
       "  <thead>\n",
       "    <tr style=\"text-align: right;\">\n",
       "      <th></th>\n",
       "      <th>acad_prog</th>\n",
       "      <th>PotentialUsers</th>\n",
       "      <th>ActiveUsers</th>\n",
       "      <th>Percent</th>\n",
       "    </tr>\n",
       "  </thead>\n",
       "  <tbody>\n",
       "    <tr>\n",
       "      <th>129</th>\n",
       "      <td>Ryerson ESL Foundation Program</td>\n",
       "      <td>165</td>\n",
       "      <td>109</td>\n",
       "      <td>0.660606</td>\n",
       "    </tr>\n",
       "    <tr>\n",
       "      <th>130</th>\n",
       "      <td>Social Work</td>\n",
       "      <td>933</td>\n",
       "      <td>955</td>\n",
       "      <td>1.023580</td>\n",
       "    </tr>\n",
       "    <tr>\n",
       "      <th>131</th>\n",
       "      <td>Social Work Part-time</td>\n",
       "      <td>228</td>\n",
       "      <td>252</td>\n",
       "      <td>1.105263</td>\n",
       "    </tr>\n",
       "    <tr>\n",
       "      <th>132</th>\n",
       "      <td>Special Student Status</td>\n",
       "      <td>98</td>\n",
       "      <td>41</td>\n",
       "      <td>0.418367</td>\n",
       "    </tr>\n",
       "    <tr>\n",
       "      <th>133</th>\n",
       "      <td>Urban &amp; Regional Planning</td>\n",
       "      <td>466</td>\n",
       "      <td>473</td>\n",
       "      <td>1.015021</td>\n",
       "    </tr>\n",
       "  </tbody>\n",
       "</table>\n",
       "</div>"
      ],
      "text/plain": [
       "                          acad_prog  PotentialUsers  ActiveUsers   Percent\n",
       "129  Ryerson ESL Foundation Program             165          109  0.660606\n",
       "130                     Social Work             933          955  1.023580\n",
       "131           Social Work Part-time             228          252  1.105263\n",
       "132          Special Student Status              98           41  0.418367\n",
       "133       Urban & Regional Planning             466          473  1.015021"
      ]
     },
     "execution_count": 96,
     "metadata": {},
     "output_type": "execute_result"
    }
   ],
   "source": [
    "\n",
    "#dfus=pd.concat([dfs,dfu],axis=1,sort=True)\n",
    "dfus=pd.merge(dfs,dfu,on=\"acad_prog\",how='left')\n",
    "dfus[\"Percent\"]=dfus.ActiveUsers/dfus.PotentialUsers\n",
    "dfus.tail()"
   ]
  },
  {
   "cell_type": "code",
   "execution_count": 97,
   "metadata": {},
   "outputs": [
    {
     "data": {
      "text/html": [
       "<div>\n",
       "<style scoped>\n",
       "    .dataframe tbody tr th:only-of-type {\n",
       "        vertical-align: middle;\n",
       "    }\n",
       "\n",
       "    .dataframe tbody tr th {\n",
       "        vertical-align: top;\n",
       "    }\n",
       "\n",
       "    .dataframe thead th {\n",
       "        text-align: right;\n",
       "    }\n",
       "</style>\n",
       "<table border=\"1\" class=\"dataframe\">\n",
       "  <thead>\n",
       "    <tr style=\"text-align: right;\">\n",
       "      <th></th>\n",
       "      <th>acad_prog</th>\n",
       "      <th>totaluses</th>\n",
       "    </tr>\n",
       "  </thead>\n",
       "  <tbody>\n",
       "    <tr>\n",
       "      <th>0</th>\n",
       "      <td>Accounting and Finance</td>\n",
       "      <td>64405</td>\n",
       "    </tr>\n",
       "    <tr>\n",
       "      <th>1</th>\n",
       "      <td>Architectural Science</td>\n",
       "      <td>48069</td>\n",
       "    </tr>\n",
       "    <tr>\n",
       "      <th>2</th>\n",
       "      <td>Arts and Contemporary Studies</td>\n",
       "      <td>81399</td>\n",
       "    </tr>\n",
       "    <tr>\n",
       "      <th>3</th>\n",
       "      <td>Bachelor of Arts</td>\n",
       "      <td>988294</td>\n",
       "    </tr>\n",
       "    <tr>\n",
       "      <th>4</th>\n",
       "      <td>Bachelor of Engineering</td>\n",
       "      <td>309910</td>\n",
       "    </tr>\n",
       "  </tbody>\n",
       "</table>\n",
       "</div>"
      ],
      "text/plain": [
       "                       acad_prog  totaluses\n",
       "0         Accounting and Finance      64405\n",
       "1          Architectural Science      48069\n",
       "2  Arts and Contemporary Studies      81399\n",
       "3               Bachelor of Arts     988294\n",
       "4        Bachelor of Engineering     309910"
      ]
     },
     "execution_count": 97,
     "metadata": {},
     "output_type": "execute_result"
    }
   ],
   "source": [
    "dfdpt.head()"
   ]
  },
  {
   "cell_type": "code",
   "execution_count": 98,
   "metadata": {},
   "outputs": [
    {
     "name": "stdout",
     "output_type": "stream",
     "text": [
      "Number of access aggregated by academic program\n",
      "                          acad_prog  totaluses\n",
      "3                  Bachelor of Arts     988294\n",
      "8               Business Management     459367\n",
      "4           Bachelor of Engineering     309910\n",
      "18    Collaborative Nursing Ryerson     309400\n",
      "130                     Social Work     238048\n",
      "25          Early Childhood Studies     210679\n",
      "14             Child and Youth Care     192589\n",
      "5               Bachelor of Science     186109\n",
      "17       Coll. Nursing George Brown     184338\n",
      "16         Coll. Nursing Centennial     168718\n",
      "99               Nutrition and Food     163727\n",
      "122  Postgrad Nursing and Midwifery     141213\n",
      "97        Nursing Deg Completion PT     139332\n",
      "21              Creative Industries     137588\n",
      "98        Nursing Degree Completion     116960\n",
      "****************************************\n"
     ]
    }
   ],
   "source": [
    "print(\"Number of access aggregated by academic program\")\n",
    "\n",
    "dfdpt=pd.DataFrame(df.groupby(\"acad_prog\")[\"user_id\"].count())\n",
    "dfdpt=dfdpt.reset_index()\n",
    "dfdpt.columns=['acad_prog','totaluses']\n",
    "#dfdpt['Per user usage']=df.groupby(\"acad_prog\")[\"user_id\"].count()/df.groupby('acad_prog')['user_id'].nunique()\n",
    "\n",
    "\n",
    "#dfus=pd.concat([dfus,dfdpt],axis=1,sort=True)\n",
    "dfus=pd.merge(dfus,dfdpt,on='acad_prog',how='left')\n",
    "dfus['Per user usage']=dfus['totaluses']/dfus['ActiveUsers']\n",
    "\n",
    "\n",
    "Toptotal=dfdpt.sort_values(by=[\"totaluses\"],ascending=False)[:5]\n",
    "\n",
    "print(dfdpt.sort_values(by=[\"totaluses\"],ascending=False)[:15])\n",
    "\n",
    "print(\"*\"*40)\n",
    "\n",
    "\n"
   ]
  },
  {
   "cell_type": "code",
   "execution_count": 22,
   "metadata": {},
   "outputs": [],
   "source": []
  },
  {
   "cell_type": "code",
   "execution_count": 99,
   "metadata": {},
   "outputs": [
    {
     "data": {
      "text/html": [
       "<div>\n",
       "<style scoped>\n",
       "    .dataframe tbody tr th:only-of-type {\n",
       "        vertical-align: middle;\n",
       "    }\n",
       "\n",
       "    .dataframe tbody tr th {\n",
       "        vertical-align: top;\n",
       "    }\n",
       "\n",
       "    .dataframe thead th {\n",
       "        text-align: right;\n",
       "    }\n",
       "</style>\n",
       "<table border=\"1\" class=\"dataframe\">\n",
       "  <thead>\n",
       "    <tr style=\"text-align: right;\">\n",
       "      <th></th>\n",
       "      <th>acad_prog</th>\n",
       "      <th>PotentialUsers</th>\n",
       "      <th>ActiveUsers</th>\n",
       "      <th>Percent</th>\n",
       "      <th>totaluses</th>\n",
       "      <th>Per user usage</th>\n",
       "    </tr>\n",
       "  </thead>\n",
       "  <tbody>\n",
       "    <tr>\n",
       "      <th>0</th>\n",
       "      <td>Accounting and Finance</td>\n",
       "      <td>1058</td>\n",
       "      <td>997</td>\n",
       "      <td>0.942344</td>\n",
       "      <td>64405</td>\n",
       "      <td>64.598796</td>\n",
       "    </tr>\n",
       "    <tr>\n",
       "      <th>1</th>\n",
       "      <td>Architectural Science</td>\n",
       "      <td>520</td>\n",
       "      <td>504</td>\n",
       "      <td>0.969231</td>\n",
       "      <td>48069</td>\n",
       "      <td>95.375000</td>\n",
       "    </tr>\n",
       "    <tr>\n",
       "      <th>2</th>\n",
       "      <td>Arts and Contemporary Studies</td>\n",
       "      <td>492</td>\n",
       "      <td>403</td>\n",
       "      <td>0.819106</td>\n",
       "      <td>81399</td>\n",
       "      <td>201.982630</td>\n",
       "    </tr>\n",
       "    <tr>\n",
       "      <th>3</th>\n",
       "      <td>Bachelor of Arts</td>\n",
       "      <td>3695</td>\n",
       "      <td>3616</td>\n",
       "      <td>0.978620</td>\n",
       "      <td>988294</td>\n",
       "      <td>273.311394</td>\n",
       "    </tr>\n",
       "    <tr>\n",
       "      <th>4</th>\n",
       "      <td>Bachelor of Engineering</td>\n",
       "      <td>4812</td>\n",
       "      <td>3621</td>\n",
       "      <td>0.752494</td>\n",
       "      <td>309910</td>\n",
       "      <td>85.586854</td>\n",
       "    </tr>\n",
       "  </tbody>\n",
       "</table>\n",
       "</div>"
      ],
      "text/plain": [
       "                       acad_prog  PotentialUsers  ActiveUsers   Percent  \\\n",
       "0         Accounting and Finance            1058          997  0.942344   \n",
       "1          Architectural Science             520          504  0.969231   \n",
       "2  Arts and Contemporary Studies             492          403  0.819106   \n",
       "3               Bachelor of Arts            3695         3616  0.978620   \n",
       "4        Bachelor of Engineering            4812         3621  0.752494   \n",
       "\n",
       "   totaluses  Per user usage  \n",
       "0      64405       64.598796  \n",
       "1      48069       95.375000  \n",
       "2      81399      201.982630  \n",
       "3     988294      273.311394  \n",
       "4     309910       85.586854  "
      ]
     },
     "execution_count": 99,
     "metadata": {},
     "output_type": "execute_result"
    }
   ],
   "source": [
    "dfus.head()"
   ]
  },
  {
   "cell_type": "code",
   "execution_count": 86,
   "metadata": {},
   "outputs": [
    {
     "name": "stdout",
     "output_type": "stream",
     "text": [
      "Academic Program with the most active users\n",
      "                           acad_prog  PotentialUsers  ActiveUsers   Percent  \\\n",
      "57                     MA Psychology              38           55  1.447368   \n",
      "91       Master of Science in Mngmnt              40           57  1.425000   \n",
      "69     MBA Mgmt of Technol and Innov              21           27  1.285714   \n",
      "122   Postgrad Nursing and Midwifery             174          223  1.281609   \n",
      "119  Postgrad Biomedical Engineering              25           32  1.280000   \n",
      "125                   RT Sport Media             212          262  1.235849   \n",
      "115               PhD Policy Studies              43           51  1.186047   \n",
      "120    Postgrad Chemical Engineering              18           21  1.166667   \n",
      "61             MASc Building Science              12           14  1.166667   \n",
      "50                        MA Fashion              32           37  1.156250   \n",
      "110            PhD Civil Engineering              36           41  1.138889   \n",
      "98         Nursing Degree Completion             211          240  1.137441   \n",
      "6                Biomedical Sciences             524          592  1.129771   \n",
      "79             MFA Documentary Media              39           44  1.128205   \n",
      "123       Professional Communication             313          352  1.124601   \n",
      "109        PhD Aerospace Engineering              25           28  1.120000   \n",
      "88            Master of Architecture              50           56  1.120000   \n",
      "97         Nursing Deg Completion PT             402          450  1.119403   \n",
      "30             Envir. App.Sci.& Mgt.              56           62  1.107143   \n",
      "65     MASc Mech and Industrial Engr              28           31  1.107143   \n",
      "\n",
      "     totaluses  Per user usage  \n",
      "57       42830      778.727273  \n",
      "91       18108      317.684211  \n",
      "69        3900      144.444444  \n",
      "122     141213      633.242152  \n",
      "119      11147      348.343750  \n",
      "125      27094      103.412214  \n",
      "115      16602      325.529412  \n",
      "120       9689      461.380952  \n",
      "61        4140      295.714286  \n",
      "50       18503      500.081081  \n",
      "110      10249      249.975610  \n",
      "98      116960      487.333333  \n",
      "6       112613      190.224662  \n",
      "79        8592      195.272727  \n",
      "123      46900      133.238636  \n",
      "109       6821      243.607143  \n",
      "88        6590      117.678571  \n",
      "97      139332      309.626667  \n",
      "30       33403      538.758065  \n",
      "65       11749      379.000000  \n"
     ]
    }
   ],
   "source": [
    "print(\"Academic Program with the most active users\")\n",
    "print(dfus.sort_values(by=[\"Percent\"],ascending=False)[:20])"
   ]
  },
  {
   "cell_type": "code",
   "execution_count": 33,
   "metadata": {},
   "outputs": [
    {
     "name": "stdout",
     "output_type": "stream",
     "text": [
      "Academic Program with the most active users\n",
      "                                PotentialUsers  ActiveUsers  \\\n",
      "acad_prog                                                     \n",
      "MA Psychology                             38.0           38   \n",
      "Phd Biomedical Physics                    21.0           21   \n",
      "MPL Urban Development                     67.0           67   \n",
      "MA Fashion                                32.0           32   \n",
      "MA Early Childhood Studies                22.0           22   \n",
      "MA Child and Youth Care                   20.0           20   \n",
      "MA Literatures of Modernity               22.0           22   \n",
      "MASc Chemical Engineering                 23.0           23   \n",
      "MA Public Policy & Admin                  38.0           38   \n",
      "PhD Psychology                            61.0           61   \n",
      "Phd Envir.App.Sci and Mgt                 23.0           23   \n",
      "Postgrad Nursing and Midwifery           174.0          173   \n",
      "PhD Mech and Industrial Engr              63.0           62   \n",
      "Collaborative Nursing Ryerson            780.0          767   \n",
      "Master of Architecture                    50.0           49   \n",
      "Digital Media MDM                         39.0           38   \n",
      "MSc Molecular Science                     38.0           37   \n",
      "MA Immigration & Settlement               37.0           36   \n",
      "PhD Civil Engineering                     36.0           35   \n",
      "Master of Social Work                     35.0           34   \n",
      "\n",
      "                                PercentOfActiveUsers  TotalUses       AvgUse  \n",
      "acad_prog                                                                     \n",
      "MA Psychology                               1.000000     114945  3024.868421  \n",
      "Phd Biomedical Physics                      1.000000      46552  2216.761905  \n",
      "MPL Urban Development                       1.000000      87484  1305.731343  \n",
      "MA Fashion                                  1.000000      86237  2694.906250  \n",
      "MA Early Childhood Studies                  1.000000      78741  3579.136364  \n",
      "MA Child and Youth Care                     1.000000      54403  2720.150000  \n",
      "MA Literatures of Modernity                 1.000000      47995  2181.590909  \n",
      "MASc Chemical Engineering                   1.000000      34295  1491.086957  \n",
      "MA Public Policy & Admin                    1.000000      56453  1485.605263  \n",
      "PhD Psychology                              1.000000     247308  4054.229508  \n",
      "Phd Envir.App.Sci and Mgt                   1.000000      45111  1961.347826  \n",
      "Postgrad Nursing and Midwifery              0.994253     566926  3277.028902  \n",
      "PhD Mech and Industrial Engr                0.984127     125677  2027.048387  \n",
      "Collaborative Nursing Ryerson               0.983333    1328254  1731.752282  \n",
      "Master of Architecture                      0.980000      48588   991.591837  \n",
      "Digital Media MDM                           0.974359      23991   631.342105  \n",
      "MSc Molecular Science                       0.973684     115549  3122.945946  \n",
      "MA Immigration & Settlement                 0.972973      91181  2532.805556  \n",
      "PhD Civil Engineering                       0.972222      37694  1076.971429  \n",
      "Master of Social Work                       0.971429      42402  1247.117647  \n"
     ]
    }
   ],
   "source": []
  },
  {
   "cell_type": "code",
   "execution_count": 88,
   "metadata": {},
   "outputs": [
    {
     "name": "stdout",
     "output_type": "stream",
     "text": [
      "Academic Program with fewer active users\n",
      "                         acad_prog  PotentialUsers  ActiveUsers   Percent  \\\n",
      "9                 Business Special              68            9  0.132353   \n",
      "27             Engineering Special              89           12  0.134831   \n",
      "40            Image Arts-New Media              30            6  0.200000   \n",
      "121     Postgrad Computer Networks              81           17  0.209877   \n",
      "55             MA Media Production              27            8  0.296296   \n",
      "128    Retail Management Part-time              23            7  0.304348   \n",
      "23               Digital Media MDM              39           12  0.307692   \n",
      "81          MPC Prof Communication              26           10  0.384615   \n",
      "11          Business Tech. Mgt. PT             256          100  0.390625   \n",
      "132         Special Student Status              98           41  0.418367   \n",
      "29   Entrprs Info Protection PMDip              11            5  0.454545   \n",
      "7              Bus. Mgt. Part-Time             372          186  0.500000   \n",
      "42       Int'l Economics & Fin. PT              11            6  0.545455   \n",
      "66     MBA Business Administration              40           23  0.575000   \n",
      "20      Computer Science Part-Time              71           42  0.591549   \n",
      "71        MBSc Building Science PT              13            8  0.615385   \n",
      "34        Geog or Spatial Analysis              13            8  0.615385   \n",
      "12        Business Technology Mgt.            1744         1083  0.620986   \n",
      "13        BusinessTech Mgt CAAT PT              16           10  0.625000   \n",
      "76   MEng Mech and Industrial Engr              30           19  0.633333   \n",
      "\n",
      "     totaluses  Per user usage  \n",
      "9          547       60.777778  \n",
      "27        1520      126.666667  \n",
      "40         442       73.666667  \n",
      "121       1239       72.882353  \n",
      "55        1029      128.625000  \n",
      "128        427       61.000000  \n",
      "23         243       20.250000  \n",
      "81        1551      155.100000  \n",
      "11        5053       50.530000  \n",
      "132       5663      138.121951  \n",
      "29         806      161.200000  \n",
      "7        16021       86.134409  \n",
      "42         692      115.333333  \n",
      "66        1866       81.130435  \n",
      "20        2220       52.857143  \n",
      "71        1904      238.000000  \n",
      "34         924      115.500000  \n",
      "12       60313       55.690674  \n",
      "13         724       72.400000  \n",
      "76        5807      305.631579  \n"
     ]
    }
   ],
   "source": [
    "print(\"Academic Program with fewer active users\")\n",
    "print(dfus.sort_values(by=[\"Percent\"])[:20])\n"
   ]
  },
  {
   "cell_type": "code",
   "execution_count": 89,
   "metadata": {},
   "outputs": [],
   "source": [
    "dfus.head()\n",
    "dfus.to_csv(\"sample_outcome/Summary of Active Users1718.csv\")"
   ]
  },
  {
   "cell_type": "code",
   "execution_count": 91,
   "metadata": {},
   "outputs": [
    {
     "name": "stdout",
     "output_type": "stream",
     "text": [
      "****************************************\n",
      "Academic Program with highest usages (per person) in descending order\n",
      "                          acad_prog  PotentialUsers  ActiveUsers   Percent  \\\n",
      "57                    MA Psychology              38           55  1.447368   \n",
      "122  Postgrad Nursing and Midwifery             174          223  1.281609   \n",
      "30            Envir. App.Sci.& Mgt.              56           62  1.107143   \n",
      "113    PhD Mech and Industrial Engr              63           65  1.031746   \n",
      "117          Phd Biomedical Physics              21           23  1.095238   \n",
      "50                       MA Fashion              32           37  1.156250   \n",
      "116                  PhD Psychology              61           58  0.950820   \n",
      "98        Nursing Degree Completion             211          240  1.137441   \n",
      "80     MHSc Nutrition Communication              39           40  1.025641   \n",
      "120   Postgrad Chemical Engineering              18           21  1.166667   \n",
      "112         PhD Elec & Computer Eng              61           58  0.950820   \n",
      "118       Phd Envir.App.Sci and Mgt              23           25  1.086957   \n",
      "49    MA Early Childhood Studies PT              20           16  0.800000   \n",
      "83             MSA Spatial Analysis              24           21  0.875000   \n",
      "48       MA Early Childhood Studies              22           21  0.954545   \n",
      "\n",
      "     totaluses  Per user usage  \n",
      "57       42830      778.727273  \n",
      "122     141213      633.242152  \n",
      "30       33403      538.758065  \n",
      "113      34750      534.615385  \n",
      "117      11643      506.217391  \n",
      "50       18503      500.081081  \n",
      "116      28638      493.758621  \n",
      "98      116960      487.333333  \n",
      "80       18611      465.275000  \n",
      "120       9689      461.380952  \n",
      "112      26671      459.844828  \n",
      "118      11309      452.360000  \n",
      "49        7094      443.375000  \n",
      "83        9167      436.523810  \n",
      "48        9103      433.476190  \n"
     ]
    }
   ],
   "source": [
    "print(\"*\"*40)\n",
    "\n",
    "print(\"Academic Program with highest usages (per person) in descending order\")\n",
    "\n",
    "Top15=dfus.sort_values(by=[\"Per user usage\"],ascending=False)[:5]\n",
    "print(dfus.sort_values(by=[\"Per user usage\"],ascending=False)[:15])\n"
   ]
  },
  {
   "cell_type": "code",
   "execution_count": 27,
   "metadata": {},
   "outputs": [
    {
     "name": "stdout",
     "output_type": "stream",
     "text": [
      "****************************************\n",
      "Undergraduate Program with highest usage (per person in descending order)\n",
      "acad_prog\n",
      "Nursing Degree Completion        487.333333\n",
      "Collaborative Nursing Ryerson    386.267166\n",
      "Nutrition and Food               324.855159\n",
      "Midwifery                        320.985714\n",
      "Nursing Deg Completion PT        309.626667\n",
      "Child and Youth Care             307.650160\n",
      "Coll. Nursing Centennial         303.996396\n",
      "Midwifery Part-time              293.960784\n",
      "Coll. Nursing George Brown       279.300000\n",
      "Bachelor of Arts                 273.311394\n",
      "Social Work                      249.264921\n",
      "Early Childhood Studies          247.857647\n",
      "Child and Youth Care PT          223.122302\n",
      "Early Childhood Studies CTPT     220.785047\n",
      "Disability Studies Part-time     210.387283\n",
      "Name: user_id, dtype: float64\n"
     ]
    }
   ],
   "source": [
    "print(\"*\"*40)\n",
    "print(\"Undergraduate Program with highest usage (per person in descending order)\")\n",
    "dfunder=df[df[\"Undergrad\"]==\"Undergrad\"]\n",
    "dfdpt2=dfunder.groupby(\"acad_prog\")[\"user_id\"].count()/dfunder.groupby('acad_prog')['user_id'].nunique()\n",
    "UTop15=dfdpt2.sort_values(ascending=False)[:15]\n",
    "print(UTop15)"
   ]
  },
  {
   "cell_type": "code",
   "execution_count": 28,
   "metadata": {},
   "outputs": [
    {
     "data": {
      "image/png": "[encoded data removed]",
      "text/plain": [
       "<Figure size 864x864 with 3 Axes>"
      ]
     },
     "metadata": {},
     "output_type": "display_data"
    }
   ],
   "source": [
    "fig = plt.figure(figsize=(12,12)) \n",
    "\n",
    "subplot(3,1,1)\n",
    "\n",
    "plt.bar(TopUnique.index,TopUnique)\n",
    "plt.title(\"Academic Program with the highest number of unique users\")\n",
    "\n",
    "subplot(3,1,2)\n",
    "plt.bar(Toptotal.index,Toptotal['user_id'])\n",
    "plt.title(\"Academic Program with highest number of access\")\n",
    "subplot(3,1,3)\n",
    "\n",
    "plt.bar(Toptotal.index,Toptotal[\"Per user usage\"])\n",
    "plt.title(\"Academic Program with highest usages (per person)\")\n",
    "plt.show()\n",
    "\n"
   ]
  },
  {
   "cell_type": "code",
   "execution_count": null,
   "metadata": {},
   "outputs": [],
   "source": []
  },
  {
   "cell_type": "code",
   "execution_count": null,
   "metadata": {},
   "outputs": [],
   "source": [
    "\n"
   ]
  },
  {
   "cell_type": "markdown",
   "metadata": {},
   "source": [
    "The tables above have been aggregated and can be export for further analysis. \n",
    "\n",
    "Here is a sample outcome for explorating the relationship between the number of unique users, number of total access, and average organized academic program\n",
    "\n",
    "The correlation showed that average does not correlate with total access.  "
   ]
  },
  {
   "cell_type": "code",
   "execution_count": null,
   "metadata": {},
   "outputs": [],
   "source": [
    "\n",
    "#dfa=pd.merge(pd.DataFrame(dfdpt),pd.DataFrame(dfu),left_index=True,right_index=True)\n",
    "\n",
    "#dfa=pd.merge(dfa,pd.DataFrame(dfdpt1),left_index=True,right_index=True)\n",
    "#dfa.columns=['total','unique','average']\n",
    "#dfa.head()\n",
    "\n",
    "#dfa.to_csv(\"sample_outcome/acad_prog_total_unique_average.csv\")\n"
   ]
  },
  {
   "cell_type": "code",
   "execution_count": 29,
   "metadata": {},
   "outputs": [
    {
     "data": {
      "image/png": "[encoded data removed]",
      "text/plain": [
       "<Figure size 576x576 with 2 Axes>"
      ]
     },
     "metadata": {},
     "output_type": "display_data"
    }
   ],
   "source": [
    "#calculation of correlation \n",
    "\n",
    "\n",
    "\n",
    "def display_corr(values, size):\n",
    "    sns.set(style=\"white\")\n",
    "\n",
    "    #the correlation matrix\n",
    "    corr = values.corr()\n",
    "\n",
    "    # Generate a mask for the upper triangle\n",
    "    mask = np.zeros_like(corr, dtype=np.bool)\n",
    "    mask[np.triu_indices_from(mask)] = True\n",
    "\n",
    "    # Set up the matplotlib figure\n",
    "    f, ax = plt.subplots(figsize=(size, size))\n",
    "\n",
    "    # Generate a custom diverging colormap\n",
    "    cmap = sns.diverging_palette(220, 10, as_cmap=True)\n",
    "\n",
    "    # Draw the heatmap with the mask and correct aspect ratio\n",
    "    sns.heatmap(corr, mask=mask, annot=True,cmap=cmap, vmax=.3,\n",
    "            square=True,  ax=ax)\n",
    "    ax = plt.xticks(fontsize = 12,color=\"steelblue\", alpha=0.8, rotation=90)\n",
    "    ax = plt.yticks(fontsize = 12,color=\"steelblue\", alpha=0.8)\n",
    "    \n",
    "    \n",
    "display_corr(dfus, 8)\n",
    "\n",
    "\n",
    "plt.title(\"Correlation b/w number of unique users, total, and average(total/unique)\")\n",
    "plt.show()\n",
    "\n"
   ]
  },
  {
   "cell_type": "markdown",
   "metadata": {},
   "source": [
    "## Analysis of use by full-time students and part-time students\n",
    "\n",
    "The following graph plots the trend of full-time and part-time student over the period of 12 months. \n",
    "\n",
    "It also showed a surge of use in fall semester for the user group \"Not Applicable\", which is for faculty, staff, and other users that were not identified as students. "
   ]
  },
  {
   "cell_type": "code",
   "execution_count": 30,
   "metadata": {},
   "outputs": [
    {
     "data": {
      "text/plain": [
       "<Figure size 576x864 with 0 Axes>"
      ]
     },
     "metadata": {},
     "output_type": "display_data"
    },
    {
     "data": {
      "image/png": "[encoded data removed]",
      "text/plain": [
       "<Figure size 432x288 with 1 Axes>"
      ]
     },
     "metadata": {},
     "output_type": "display_data"
    }
   ],
   "source": [
    "g1=df.groupby([pd.Grouper(key='access_date', freq='D'),'FT/PT'])['FT/PT'].count().unstack().fillna(0)\n",
    "g1.sample()\n",
    "plt.style.use(\"fivethirtyeight\")\n",
    "fig = plt.figure(figsize=(8,12)) \n",
    "g1.rolling('7D').sum().plot()\n",
    "\n",
    "plt.title(\"Access Trend for Full-Time and Part-Time students\")\n",
    "plt.show();"
   ]
  },
  {
   "cell_type": "markdown",
   "metadata": {},
   "source": [
    "## Analysis of Graduate and Undergraduate students\n",
    "\n",
    "The following graph shows trend of graduate student, undergraduate student in 12 month period \n"
   ]
  },
  {
   "cell_type": "code",
   "execution_count": 31,
   "metadata": {},
   "outputs": [
    {
     "data": {
      "image/png": "[encoded data removed]",
      "text/plain": [
       "<Figure size 432x288 with 1 Axes>"
      ]
     },
     "metadata": {},
     "output_type": "display_data"
    }
   ],
   "source": [
    "g1=df.groupby([pd.Grouper(key='access_date', freq='D'),'Undergrad'])['Undergrad'].count().unstack().fillna(0)\n",
    "g1.sample()\n",
    "g1.rolling('7D').sum().plot()\n",
    "plt.title(\"Access Trend for Graduate and Undergraduate Students\")\n",
    "plt.show()"
   ]
  },
  {
   "cell_type": "raw",
   "metadata": {},
   "source": [
    "<script>\n",
    "  $(document).ready(function(){\n",
    "    $('div.prompt').hide();\n",
    "    $('div.back-to-top').hide();\n",
    "    $('nav#menubar').hide();\n",
    "    $('.breadcrumb').hide();\n",
    "    $('.hidden-print').hide();\n",
    "  });\n",
    "</script>\n",
    "\n",
    "<footer id=\"attribution\" style=\"float:right; color:#999; background:#fff;\">\n",
    "Created with Jupyter, delivered by Fastly, rendered by Rackspace.\n",
    "</footer>"
   ]
  }
 ],
 "metadata": {
  "kernelspec": {
   "display_name": "Python 3",
   "language": "python",
   "name": "python3"
  },
  "language_info": {
   "codemirror_mode": {
    "name": "ipython",
    "version": 3
   },
   "file_extension": ".py",
   "mimetype": "text/x-python",
   "name": "python",
   "nbconvert_exporter": "python",
   "pygments_lexer": "ipython3",
   "version": "3.6.5"
  }
 },
 "nbformat": 4,
 "nbformat_minor": 2
}

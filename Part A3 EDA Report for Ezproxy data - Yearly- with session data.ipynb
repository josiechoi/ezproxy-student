{
 "cells": [
  {
   "cell_type": "raw",
   "metadata": {},
   "source": [
    "\n",
    "<script>\n",
    "  function code_toggle() {\n",
    "    if (code_shown){\n",
    "      $('div.input').hide('500');\n",
    "      $('#toggleButton').val('Show Code')\n",
    "    } else {\n",
    "      $('div.input').show('500');\n",
    "      $('#toggleButton').val('Hide Code')\n",
    "    }\n",
    "    code_shown = !code_shown\n",
    "  }\n",
    "\n",
    "  $( document ).ready(function(){\n",
    "    code_shown=false;\n",
    "    $('div.input').hide()\n",
    "  });\n",
    "</script>\n",
    "<form action=\"javascript:code_toggle()\"><input type=\"submit\" id=\"toggleButton\" value=\"Show Code\"></form>"
   ]
  },
  {
   "cell_type": "markdown",
   "metadata": {},
   "source": [
    "# Exploration of EZproxy data \n",
    "\n",
    "Updated Mar 14, 2019 \n",
    "\n",
    "This report was submitted as a record of research progress for a ezproxy data analysis project headed by Lei Jin, Electronic Resources Librarian.\n",
    "\n",
    "\n",
    "## Background\n",
    "This project was previously co-chaired by Lei Jin and Dana Thomas, with assistance for a ph.D. student from Mechanical Engineering. The latest member was Josephine Choi, who has joined the project in 2018. She will be responsible for using Python to perform data wrangling as well as data analysis.\n",
    "\n",
    "The data that was being used here was collected from Sept 2017 to Aug 2018 \n",
    " \n",
    "## Description of the process \n",
    "\n",
    "\n",
    "*  Approval from Ethics Board\n",
    "\n",
    "*  Data from the EZproxy server was obtained by contacting Steven Marsden, RULA's IT Specialist \n",
    "\n",
    "*  Data from student data were obtained through CCS \n",
    "\n",
    "*  Data was cleaned and merged through the use of python (Separate notebook \"Part 1\") \n",
    "\n",
    "*  Exploratory Data Analysis - which is what this notebook is about\n",
    "\n",
    "*  Create faculty profile \n",
    "\n",
    "\n",
    "## Description of the code in this notebook \n",
    "\n",
    "* set the data to correct data type \n",
    "* anonymize user date by replacing user_id by a randomized number\n",
    "* group users from small faculty/academic program to protect their identity \n",
    "* create session dataset, which group the activities by one user within 20 minutes\n"
   ]
  },
  {
   "cell_type": "code",
   "execution_count": 1,
   "metadata": {},
   "outputs": [],
   "source": [
    "#http://chris-said.io/2016/02/13/how-to-make-polished-jupyter-presentations-with-optional-code-visibility/\n",
    "# import necessary libraries \n",
    "\n",
    "import pandas as pd \n",
    "import matplotlib.pyplot as plt \n",
    "import seaborn as sns\n",
    "#%matplotlib inline\n"
   ]
  },
  {
   "cell_type": "code",
   "execution_count": 2,
   "metadata": {},
   "outputs": [],
   "source": [
    "df=pd.read_csv(\"combined_ana_2017-18.csv\", parse_dates=True)\n",
    "df=df.drop('Unnamed: 0',axis=1)\n",
    "df.columns=[\"user_id\",'access_date','url','domain','acad_prog','prog_yr','on_or_off']"
   ]
  },
  {
   "cell_type": "code",
   "execution_count": null,
   "metadata": {},
   "outputs": [],
   "source": [
    "# session id may need to happen a lot earlier for this work \n",
    "g1=df.groupby(['user_id','url','on_or_off',pd.Grouper(key='access_date', freq='20T')]).count()"
   ]
  },
  {
   "cell_type": "code",
   "execution_count": 3,
   "metadata": {},
   "outputs": [],
   "source": [
    "dff=pd.read_csv(\"data/acad_prog.csv\")\n",
    "\n",
    "dff=dff.drop([\"1\",\"2\",\"3\",\"4\",\"G\",\"Grandtotal\"],axis=1)"
   ]
  },
  {
   "cell_type": "code",
   "execution_count": 4,
   "metadata": {},
   "outputs": [],
   "source": [
    "df=pd.merge(df,dff,on=\"acad_prog\",how=\"left\")\n",
    "#weird...shouldn't this be df=df.drop(...)\n",
    "df.drop('acad_prog',axis=1,inplace=True)\n",
    "df.rename(columns={'acad_prog_c': 'acad_prog'}, inplace=True)\n",
    "df=df.dropna(subset=['domain','url'])\n",
    "\n",
    "#df.columns=[\"user_id\",'access_date','url','domain','acad_prog','prog_yr','on_or_off']"
   ]
  },
  {
   "cell_type": "markdown",
   "metadata": {},
   "source": [
    "## Example\n",
    "What the processed data looks like. user_id is a random number assigned to protect the user's identity. "
   ]
  },
  {
   "cell_type": "code",
   "execution_count": 194,
   "metadata": {},
   "outputs": [
    {
     "data": {
      "text/html": [
       "<div>\n",
       "<style scoped>\n",
       "    .dataframe tbody tr th:only-of-type {\n",
       "        vertical-align: middle;\n",
       "    }\n",
       "\n",
       "    .dataframe tbody tr th {\n",
       "        vertical-align: top;\n",
       "    }\n",
       "\n",
       "    .dataframe thead th {\n",
       "        text-align: right;\n",
       "    }\n",
       "</style>\n",
       "<table border=\"1\" class=\"dataframe\">\n",
       "  <thead>\n",
       "    <tr style=\"text-align: right;\">\n",
       "      <th></th>\n",
       "      <th>user_id</th>\n",
       "      <th>access_date</th>\n",
       "      <th>url</th>\n",
       "      <th>domain</th>\n",
       "      <th>prog_yr</th>\n",
       "      <th>on_or_off</th>\n",
       "      <th>FT/PT</th>\n",
       "      <th>acad_prog</th>\n",
       "      <th>Undergrad</th>\n",
       "      <th>faculty</th>\n",
       "    </tr>\n",
       "  </thead>\n",
       "  <tbody>\n",
       "    <tr>\n",
       "      <th>0</th>\n",
       "      <td>39218.0</td>\n",
       "      <td>2017-09-01 00:00:00</td>\n",
       "      <td>journals.sagepub.com</td>\n",
       "      <td>sagepub.com</td>\n",
       "      <td>G</td>\n",
       "      <td>offcampus</td>\n",
       "      <td>FT</td>\n",
       "      <td>Master of Journalism</td>\n",
       "      <td>Grad</td>\n",
       "      <td>Business</td>\n",
       "    </tr>\n",
       "    <tr>\n",
       "      <th>2</th>\n",
       "      <td>15525.0</td>\n",
       "      <td>2017-09-01 00:00:17</td>\n",
       "      <td>pubs.acs.org</td>\n",
       "      <td>acs.org</td>\n",
       "      <td>G</td>\n",
       "      <td>offcampus</td>\n",
       "      <td>FT</td>\n",
       "      <td>Postgrad Biomedical Engineering</td>\n",
       "      <td>Grad</td>\n",
       "      <td>Engineering and Architectural Sci</td>\n",
       "    </tr>\n",
       "  </tbody>\n",
       "</table>\n",
       "</div>"
      ],
      "text/plain": [
       "   user_id         access_date                   url       domain prog_yr  \\\n",
       "0  39218.0 2017-09-01 00:00:00  journals.sagepub.com  sagepub.com       G   \n",
       "2  15525.0 2017-09-01 00:00:17          pubs.acs.org      acs.org       G   \n",
       "\n",
       "   on_or_off FT/PT                        acad_prog Undergrad  \\\n",
       "0  offcampus    FT             Master of Journalism      Grad   \n",
       "2  offcampus    FT  Postgrad Biomedical Engineering      Grad   \n",
       "\n",
       "                             faculty  \n",
       "0                           Business  \n",
       "2  Engineering and Architectural Sci  "
      ]
     },
     "execution_count": 194,
     "metadata": {},
     "output_type": "execute_result"
    }
   ],
   "source": [
    "df.head(2)"
   ]
  },
  {
   "cell_type": "markdown",
   "metadata": {},
   "source": [
    "## Create Session data file \n",
    "In addition to the data of clicks, we also create a separate file to analyze the session activities. We group the ezproxy activites by the same user in the same url/domain within 20 minutes as a session. \n",
    "This is what the processed session data looks like "
   ]
  },
  {
   "cell_type": "code",
   "execution_count": null,
   "metadata": {},
   "outputs": [],
   "source": [
    "df.columns=[\"user_id\",'access_date','url','domain','prog_yr','on_or_off','FT/PT',\"acad_prog\",\"Undergrad\",'faculty']\n",
    "df['FT/PT']=df['FT/PT'].fillna(\"Other\")\n",
    "#df['Undergrad'] = df['Undergrad'].astype(\"category\")\n",
    "df['Undergrad']=df['Undergrad'].fillna(\"Other\")\n",
    "\n",
    "df['acad_prog']=df['acad_prog'].fillna(\"staff\")\n",
    "df['faculty']=df['faculty'].fillna(\"Other\")\n",
    "df['user_id']=df['user_id'].astype(str)\n",
    "df['user_id']=df['user_id'].fillna('other')\n",
    "df=df[df.access_date!='date_time']\n",
    "\n",
    "df.to_csv(\"data/dff17-18.csv\")"
   ]
  },
  {
   "cell_type": "code",
   "execution_count": null,
   "metadata": {},
   "outputs": [],
   "source": [
    "# only run this if starting from this file \n",
    "df=pd.read_csv('data/dff17-18.csv')\n",
    "df=df.drop(\"Unnamed: 0\",axis=1)"
   ]
  },
  {
   "cell_type": "code",
   "execution_count": 6,
   "metadata": {},
   "outputs": [],
   "source": [
    "# a little bit of cleaning \n",
    "df=df[df.access_date!='date_time']\n",
    "#df.info()\n",
    "pd.to_datetime(df.access_date)\n",
    "#set the columns to correct types \n",
    "df['user_id']=df['user_id'].astype(str)\n",
    "df['acad_prog']=df['acad_prog'].fillna(\"staff\")\n",
    "df['access_date']=df['access_date'].astype('datetime64[ns]')\n",
    "df['Undergrad'] = df['Undergrad'].astype(\"category\")\n",
    "df['faculty'] = df['faculty'].astype(\"category\")\n",
    "df['FT/PT'] = df['FT/PT'].astype(\"category\")\n",
    "df['acad_prog']=df['acad_prog'].astype(\"category\")"
   ]
  },
  {
   "cell_type": "code",
   "execution_count": 28,
   "metadata": {},
   "outputs": [],
   "source": [
    "# key code to turn the data into session data\n",
    "g1=df.groupby(['user_id','url','domain','on_or_off',pd.Grouper(key='access_date', freq='20T')]).count()\n",
    "g1=pd.DataFrame(g1)"
   ]
  },
  {
   "cell_type": "code",
   "execution_count": 33,
   "metadata": {},
   "outputs": [],
   "source": [
    "# file is to be exported so that this script doesn't have to be run all the time\n",
    "g1.to_csv(\"data/session_raw.csv\")"
   ]
  },
  {
   "cell_type": "code",
   "execution_count": 112,
   "metadata": {},
   "outputs": [],
   "source": [
    "g2=pd.read_csv('data/session_raw.csv')"
   ]
  },
  {
   "cell_type": "code",
   "execution_count": 81,
   "metadata": {},
   "outputs": [],
   "source": [
    "# clean up to get rid of .0\n",
    "g2['user_id'],g2['col1']=g2['user_id'].str.split('.',1).str\n",
    "g2.drop('col1',axis=1,inplace=True)\n",
    "g2=pd.DataFrame(g2)\n",
    "g2.reset_index(inplace=True)\n",
    "#g2.drop('level_0',axis=1,inplace=True)\n",
    "g2['user_id']=g2['user_id'].astype(str)\n",
    "g2.drop(['FT/PT',\"acad_prog\",'Undergrad','faculty'],axis=1,inplace=True)\n",
    "g2.columns=['user_id','url','domain','on_or_off','access_date','total_per_session']"
   ]
  },
  {
   "cell_type": "code",
   "execution_count": 152,
   "metadata": {},
   "outputs": [],
   "source": [
    "#have to import the ana key to repopulate the data\n",
    "ana=pd.read_excel(\"data/AnanyKey.xlsx\")\n",
    "ana.drop(['USERNAME','Column1'],axis=1,inplace=True)\n",
    "ana['Usr_id']=ana['Usr_id'].astype(str)\n",
    "# here comes the merge \n",
    "ana=pd.merge(ana,dff,left_on=\"ACAD_PROG_DESCR\",right_on=\"acad_prog\",how=\"left\")\n",
    "ana.drop('acad_prog',axis=1,inplace=True)\n",
    "ana.rename(columns={'acad_prog_c': 'acad_prog'}, inplace=True)\n",
    "ana.drop('ACAD_PROG_DESCR',axis=1,inplace=True)"
   ]
  },
  {
   "cell_type": "code",
   "execution_count": 154,
   "metadata": {},
   "outputs": [],
   "source": [
    "#second merge\n",
    "g3=pd.merge(g2,ana,left_on=\"user_id\",right_on=\"Usr_id\",how=\"left\")"
   ]
  },
  {
   "cell_type": "code",
   "execution_count": 195,
   "metadata": {},
   "outputs": [
    {
     "data": {
      "text/html": [
       "<div>\n",
       "<style scoped>\n",
       "    .dataframe tbody tr th:only-of-type {\n",
       "        vertical-align: middle;\n",
       "    }\n",
       "\n",
       "    .dataframe tbody tr th {\n",
       "        vertical-align: top;\n",
       "    }\n",
       "\n",
       "    .dataframe thead th {\n",
       "        text-align: right;\n",
       "    }\n",
       "</style>\n",
       "<table border=\"1\" class=\"dataframe\">\n",
       "  <thead>\n",
       "    <tr style=\"text-align: right;\">\n",
       "      <th></th>\n",
       "      <th>user_id</th>\n",
       "      <th>url</th>\n",
       "      <th>domain</th>\n",
       "      <th>on_or_off</th>\n",
       "      <th>access_date</th>\n",
       "      <th>total_per_session</th>\n",
       "      <th>Usr_id</th>\n",
       "      <th>PROGRAM_YEAR</th>\n",
       "      <th>FT/PT</th>\n",
       "      <th>acad_prog</th>\n",
       "      <th>Undergrad</th>\n",
       "      <th>Faculty</th>\n",
       "    </tr>\n",
       "  </thead>\n",
       "  <tbody>\n",
       "    <tr>\n",
       "      <th>0</th>\n",
       "      <td>1</td>\n",
       "      <td>cdn.media.euromonitor.com</td>\n",
       "      <td>euromonitor.com</td>\n",
       "      <td>offcampus</td>\n",
       "      <td>2018-03-27 09:40:00</td>\n",
       "      <td>1</td>\n",
       "      <td>1</td>\n",
       "      <td>2</td>\n",
       "      <td>FT</td>\n",
       "      <td>Retail Management</td>\n",
       "      <td>Undergrad</td>\n",
       "      <td>Business</td>\n",
       "    </tr>\n",
       "    <tr>\n",
       "      <th>1</th>\n",
       "      <td>1</td>\n",
       "      <td>cdn.media.euromonitor.com</td>\n",
       "      <td>euromonitor.com</td>\n",
       "      <td>offcampus</td>\n",
       "      <td>2018-05-12 15:00:00</td>\n",
       "      <td>1</td>\n",
       "      <td>1</td>\n",
       "      <td>2</td>\n",
       "      <td>FT</td>\n",
       "      <td>Retail Management</td>\n",
       "      <td>Undergrad</td>\n",
       "      <td>Business</td>\n",
       "    </tr>\n",
       "  </tbody>\n",
       "</table>\n",
       "</div>"
      ],
      "text/plain": [
       "  user_id                        url           domain  on_or_off  \\\n",
       "0       1  cdn.media.euromonitor.com  euromonitor.com  offcampus   \n",
       "1       1  cdn.media.euromonitor.com  euromonitor.com  offcampus   \n",
       "\n",
       "           access_date  total_per_session Usr_id PROGRAM_YEAR FT/PT  \\\n",
       "0  2018-03-27 09:40:00                  1      1            2    FT   \n",
       "1  2018-05-12 15:00:00                  1      1            2    FT   \n",
       "\n",
       "           acad_prog  Undergrad   Faculty  \n",
       "0  Retail Management  Undergrad  Business  \n",
       "1  Retail Management  Undergrad  Business  "
      ]
     },
     "execution_count": 195,
     "metadata": {},
     "output_type": "execute_result"
    }
   ],
   "source": [
    "g3.head(2)"
   ]
  },
  {
   "cell_type": "code",
   "execution_count": 156,
   "metadata": {},
   "outputs": [],
   "source": [
    "#save the work to save the trouble in the future\n",
    "g3.to_csv(\"data/session1718.csv\")"
   ]
  },
  {
   "cell_type": "raw",
   "metadata": {},
   "source": []
  },
  {
   "cell_type": "markdown",
   "metadata": {},
   "source": [
    "# Overall Trend"
   ]
  },
  {
   "cell_type": "code",
   "execution_count": 7,
   "metadata": {},
   "outputs": [],
   "source": [
    "#only need to run this if start from here \n",
    "\n",
    "df=pd.read_csv('data/dff17-18.csv')\n",
    "\n",
    "# a little bit of cleaning \n",
    "\n",
    "df=df[df.access_date!='date_time']\n",
    "\n",
    "#df.info()\n",
    "\n",
    "pd.to_datetime(df.access_date)\n",
    "\n",
    "#set the columns to correct types \n",
    "#df['acad_prog']=df['acad_prog'].fillna(\"staff\")\n",
    "\n",
    "df['access_date']=df['access_date'].astype('datetime64[ns]')\n",
    "df['on_or_off'] = df['on_or_off'].astype(\"category\")\n",
    "df['Undergrad'] = df['Undergrad'].astype(\"category\")\n",
    "df['faculty'] = df['Undergrad'].astype(\"category\")\n",
    "df['FT/PT'] = df['FT/PT'].astype(\"category\")\n",
    "#df.info()"
   ]
  },
  {
   "cell_type": "code",
   "execution_count": null,
   "metadata": {},
   "outputs": [],
   "source": [
    "#import datetime as df \n",
    "#pd.to_datetime(df.date_time,format='%d-%b-%Y%H:%M:%S')\n",
    "#df['date_time'] = df['date_time'].apply(lambda x: dt.datetime.strptime(x,'%d-%b-%Y%H:%M:%S'))\n",
    "#pd.to_datetime(raw_data['Mycol'], format='%d%b%Y:%H:%M:%S.%f'\n",
    "#df['date_time'] = df['date_time'].astype('datetime64[ns]')\n"
   ]
  },
  {
   "cell_type": "markdown",
   "metadata": {
    "collapsed": true
   },
   "source": [
    "## Academic Program "
   ]
  },
  {
   "cell_type": "code",
   "execution_count": 8,
   "metadata": {},
   "outputs": [],
   "source": [
    "\n",
    "#import datetime as dt\n",
    "#df['month']=df.access_date[0:7]\n",
    "#df['access_date'] = df['access_date'].apply(lambda x: dt.datetime.strptime(x,'%d-%b-%Y %H:%M:%S'))\n",
    "#df.head()\n",
    "\n",
    "# drop unused data \n",
    "df=df.dropna(subset=['url','domain'])\n"
   ]
  },
  {
   "cell_type": "markdown",
   "metadata": {},
   "source": [
    "* data was then aggregated by \"access_date\" and \"acad_prog\", so that chart could be created based on academic program "
   ]
  },
  {
   "cell_type": "code",
   "execution_count": 158,
   "metadata": {
    "scrolled": true
   },
   "outputs": [],
   "source": [
    "g1=df.groupby([pd.Grouper(key='access_date', freq='D'),'acad_prog'])['acad_prog'].count().unstack().fillna(0)\n",
    "\n",
    "#http://pbpython.com/pandas-grouper-agg.html\n"
   ]
  },
  {
   "cell_type": "code",
   "execution_count": 162,
   "metadata": {},
   "outputs": [
    {
     "data": {
      "text/html": [
       "<div>\n",
       "<style scoped>\n",
       "    .dataframe tbody tr th:only-of-type {\n",
       "        vertical-align: middle;\n",
       "    }\n",
       "\n",
       "    .dataframe tbody tr th {\n",
       "        vertical-align: top;\n",
       "    }\n",
       "\n",
       "    .dataframe thead th {\n",
       "        text-align: right;\n",
       "    }\n",
       "</style>\n",
       "<table border=\"1\" class=\"dataframe\">\n",
       "  <thead>\n",
       "    <tr style=\"text-align: right;\">\n",
       "      <th>acad_prog</th>\n",
       "      <th>Accounting and Finance</th>\n",
       "      <th>Architectural Science</th>\n",
       "      <th>Arts and Contemporary Studies</th>\n",
       "      <th>Bachelor of Arts</th>\n",
       "      <th>Bachelor of Engineering</th>\n",
       "      <th>Bachelor of Science</th>\n",
       "      <th>Biomedical Sciences</th>\n",
       "      <th>Bus. Mgt. Part-Time</th>\n",
       "      <th>Business Management</th>\n",
       "      <th>Business Special</th>\n",
       "      <th>...</th>\n",
       "      <th>RT Sport Media</th>\n",
       "      <th>RTA New Media</th>\n",
       "      <th>Retail Management</th>\n",
       "      <th>Retail Management Part-time</th>\n",
       "      <th>Ryerson ESL Foundation Program</th>\n",
       "      <th>Social Work</th>\n",
       "      <th>Social Work Part-time</th>\n",
       "      <th>Special Student Status</th>\n",
       "      <th>Urban &amp; Regional Planning</th>\n",
       "      <th>staff</th>\n",
       "    </tr>\n",
       "    <tr>\n",
       "      <th>access_date</th>\n",
       "      <th></th>\n",
       "      <th></th>\n",
       "      <th></th>\n",
       "      <th></th>\n",
       "      <th></th>\n",
       "      <th></th>\n",
       "      <th></th>\n",
       "      <th></th>\n",
       "      <th></th>\n",
       "      <th></th>\n",
       "      <th></th>\n",
       "      <th></th>\n",
       "      <th></th>\n",
       "      <th></th>\n",
       "      <th></th>\n",
       "      <th></th>\n",
       "      <th></th>\n",
       "      <th></th>\n",
       "      <th></th>\n",
       "      <th></th>\n",
       "      <th></th>\n",
       "    </tr>\n",
       "  </thead>\n",
       "  <tbody>\n",
       "    <tr>\n",
       "      <th>2017-09-01</th>\n",
       "      <td>128.0</td>\n",
       "      <td>332.0</td>\n",
       "      <td>12.0</td>\n",
       "      <td>607.0</td>\n",
       "      <td>513.0</td>\n",
       "      <td>279.0</td>\n",
       "      <td>28.0</td>\n",
       "      <td>0.0</td>\n",
       "      <td>448.0</td>\n",
       "      <td>0.0</td>\n",
       "      <td>...</td>\n",
       "      <td>0.0</td>\n",
       "      <td>0.0</td>\n",
       "      <td>0.0</td>\n",
       "      <td>0.0</td>\n",
       "      <td>3.0</td>\n",
       "      <td>234.0</td>\n",
       "      <td>0.0</td>\n",
       "      <td>0.0</td>\n",
       "      <td>0.0</td>\n",
       "      <td>13464.0</td>\n",
       "    </tr>\n",
       "    <tr>\n",
       "      <th>2017-09-02</th>\n",
       "      <td>19.0</td>\n",
       "      <td>0.0</td>\n",
       "      <td>37.0</td>\n",
       "      <td>755.0</td>\n",
       "      <td>551.0</td>\n",
       "      <td>0.0</td>\n",
       "      <td>12.0</td>\n",
       "      <td>0.0</td>\n",
       "      <td>218.0</td>\n",
       "      <td>0.0</td>\n",
       "      <td>...</td>\n",
       "      <td>0.0</td>\n",
       "      <td>0.0</td>\n",
       "      <td>0.0</td>\n",
       "      <td>0.0</td>\n",
       "      <td>0.0</td>\n",
       "      <td>41.0</td>\n",
       "      <td>0.0</td>\n",
       "      <td>7.0</td>\n",
       "      <td>0.0</td>\n",
       "      <td>12195.0</td>\n",
       "    </tr>\n",
       "    <tr>\n",
       "      <th>2017-09-03</th>\n",
       "      <td>6.0</td>\n",
       "      <td>137.0</td>\n",
       "      <td>29.0</td>\n",
       "      <td>585.0</td>\n",
       "      <td>136.0</td>\n",
       "      <td>247.0</td>\n",
       "      <td>5.0</td>\n",
       "      <td>0.0</td>\n",
       "      <td>284.0</td>\n",
       "      <td>0.0</td>\n",
       "      <td>...</td>\n",
       "      <td>0.0</td>\n",
       "      <td>0.0</td>\n",
       "      <td>0.0</td>\n",
       "      <td>0.0</td>\n",
       "      <td>0.0</td>\n",
       "      <td>313.0</td>\n",
       "      <td>0.0</td>\n",
       "      <td>0.0</td>\n",
       "      <td>7.0</td>\n",
       "      <td>13382.0</td>\n",
       "    </tr>\n",
       "    <tr>\n",
       "      <th>2017-09-04</th>\n",
       "      <td>273.0</td>\n",
       "      <td>465.0</td>\n",
       "      <td>0.0</td>\n",
       "      <td>1380.0</td>\n",
       "      <td>608.0</td>\n",
       "      <td>55.0</td>\n",
       "      <td>132.0</td>\n",
       "      <td>0.0</td>\n",
       "      <td>171.0</td>\n",
       "      <td>9.0</td>\n",
       "      <td>...</td>\n",
       "      <td>0.0</td>\n",
       "      <td>0.0</td>\n",
       "      <td>0.0</td>\n",
       "      <td>0.0</td>\n",
       "      <td>0.0</td>\n",
       "      <td>163.0</td>\n",
       "      <td>10.0</td>\n",
       "      <td>0.0</td>\n",
       "      <td>35.0</td>\n",
       "      <td>16380.0</td>\n",
       "    </tr>\n",
       "    <tr>\n",
       "      <th>2017-09-05</th>\n",
       "      <td>222.0</td>\n",
       "      <td>513.0</td>\n",
       "      <td>990.0</td>\n",
       "      <td>2560.0</td>\n",
       "      <td>749.0</td>\n",
       "      <td>260.0</td>\n",
       "      <td>597.0</td>\n",
       "      <td>0.0</td>\n",
       "      <td>1135.0</td>\n",
       "      <td>0.0</td>\n",
       "      <td>...</td>\n",
       "      <td>8.0</td>\n",
       "      <td>169.0</td>\n",
       "      <td>38.0</td>\n",
       "      <td>0.0</td>\n",
       "      <td>1.0</td>\n",
       "      <td>1213.0</td>\n",
       "      <td>89.0</td>\n",
       "      <td>176.0</td>\n",
       "      <td>339.0</td>\n",
       "      <td>20914.0</td>\n",
       "    </tr>\n",
       "  </tbody>\n",
       "</table>\n",
       "<p>5 rows × 135 columns</p>\n",
       "</div>"
      ],
      "text/plain": [
       "acad_prog    Accounting and Finance  Architectural Science  \\\n",
       "access_date                                                  \n",
       "2017-09-01                    128.0                  332.0   \n",
       "2017-09-02                     19.0                    0.0   \n",
       "2017-09-03                      6.0                  137.0   \n",
       "2017-09-04                    273.0                  465.0   \n",
       "2017-09-05                    222.0                  513.0   \n",
       "\n",
       "acad_prog    Arts and Contemporary Studies  Bachelor of Arts  \\\n",
       "access_date                                                    \n",
       "2017-09-01                            12.0             607.0   \n",
       "2017-09-02                            37.0             755.0   \n",
       "2017-09-03                            29.0             585.0   \n",
       "2017-09-04                             0.0            1380.0   \n",
       "2017-09-05                           990.0            2560.0   \n",
       "\n",
       "acad_prog    Bachelor of Engineering  Bachelor of Science  \\\n",
       "access_date                                                 \n",
       "2017-09-01                     513.0                279.0   \n",
       "2017-09-02                     551.0                  0.0   \n",
       "2017-09-03                     136.0                247.0   \n",
       "2017-09-04                     608.0                 55.0   \n",
       "2017-09-05                     749.0                260.0   \n",
       "\n",
       "acad_prog    Biomedical Sciences  Bus. Mgt. Part-Time  Business Management  \\\n",
       "access_date                                                                  \n",
       "2017-09-01                  28.0                  0.0                448.0   \n",
       "2017-09-02                  12.0                  0.0                218.0   \n",
       "2017-09-03                   5.0                  0.0                284.0   \n",
       "2017-09-04                 132.0                  0.0                171.0   \n",
       "2017-09-05                 597.0                  0.0               1135.0   \n",
       "\n",
       "acad_prog    Business Special   ...     RT Sport Media  RTA New Media  \\\n",
       "access_date                     ...                                     \n",
       "2017-09-01                0.0   ...                0.0            0.0   \n",
       "2017-09-02                0.0   ...                0.0            0.0   \n",
       "2017-09-03                0.0   ...                0.0            0.0   \n",
       "2017-09-04                9.0   ...                0.0            0.0   \n",
       "2017-09-05                0.0   ...                8.0          169.0   \n",
       "\n",
       "acad_prog    Retail Management  Retail Management Part-time  \\\n",
       "access_date                                                   \n",
       "2017-09-01                 0.0                          0.0   \n",
       "2017-09-02                 0.0                          0.0   \n",
       "2017-09-03                 0.0                          0.0   \n",
       "2017-09-04                 0.0                          0.0   \n",
       "2017-09-05                38.0                          0.0   \n",
       "\n",
       "acad_prog    Ryerson ESL Foundation Program  Social Work  \\\n",
       "access_date                                                \n",
       "2017-09-01                              3.0        234.0   \n",
       "2017-09-02                              0.0         41.0   \n",
       "2017-09-03                              0.0        313.0   \n",
       "2017-09-04                              0.0        163.0   \n",
       "2017-09-05                              1.0       1213.0   \n",
       "\n",
       "acad_prog    Social Work Part-time  Special Student Status  \\\n",
       "access_date                                                  \n",
       "2017-09-01                     0.0                     0.0   \n",
       "2017-09-02                     0.0                     7.0   \n",
       "2017-09-03                     0.0                     0.0   \n",
       "2017-09-04                    10.0                     0.0   \n",
       "2017-09-05                    89.0                   176.0   \n",
       "\n",
       "acad_prog    Urban & Regional Planning    staff  \n",
       "access_date                                      \n",
       "2017-09-01                         0.0  13464.0  \n",
       "2017-09-02                         0.0  12195.0  \n",
       "2017-09-03                         7.0  13382.0  \n",
       "2017-09-04                        35.0  16380.0  \n",
       "2017-09-05                       339.0  20914.0  \n",
       "\n",
       "[5 rows x 135 columns]"
      ]
     },
     "execution_count": 162,
     "metadata": {},
     "output_type": "execute_result"
    }
   ],
   "source": [
    "g1.head()"
   ]
  },
  {
   "cell_type": "code",
   "execution_count": 163,
   "metadata": {},
   "outputs": [],
   "source": [
    "g1.to_csv(\"sample_outcome/g1.csv\")"
   ]
  },
  {
   "cell_type": "markdown",
   "metadata": {},
   "source": [
    "* The graphs below showed that most of the academic program showed similar trend. The only exception is staff. \n",
    "* It should be noted that \"staff\" is the category assigned to all datapoint that could not be mapped with student data we obtained through CCS. While most of the users would be either staff or faculty, it is likely that some students could be erronenously assigned as \"staff\". \n"
   ]
  },
  {
   "cell_type": "markdown",
   "metadata": {},
   "source": [
    "## Staff vs. Students \n",
    "\n",
    "For the graph below, a separate dataframe was created as we need to set the index to \"access_date\" \n",
    "The following graphs help us to explore the differences between student and staff. While staff showed a different pattern, on the whole it does not affect the overall users of the users. \n"
   ]
  },
  {
   "cell_type": "code",
   "execution_count": 167,
   "metadata": {},
   "outputs": [],
   "source": [
    "import matplotlib.pyplot as plt "
   ]
  },
  {
   "cell_type": "code",
   "execution_count": 9,
   "metadata": {},
   "outputs": [],
   "source": [
    "# All academic programs\n",
    "df1=df.set_index(\"access_date\")\n",
    "GB=df1.groupby(df1.index.date).count()\n",
    "\n",
    "#GB.head()"
   ]
  },
  {
   "cell_type": "code",
   "execution_count": 14,
   "metadata": {},
   "outputs": [
    {
     "data": {
      "image/png": "[encoded data removed]",
      "text/plain": [
       "<Figure size 864x576 with 3 Axes>"
      ]
     },
     "metadata": {},
     "output_type": "display_data"
    }
   ],
   "source": [
    "#Staff only\n",
    "df3=df1[df1.acad_prog==\"staff\"]\n",
    "GB1=df3.groupby(df3.index.date).count()\n",
    "\n",
    "#Not staff\n",
    "df2=df1[df1.acad_prog!=\"staff\"]\n",
    "GB4=df2.groupby(df2.index.date).count()\n",
    "\n",
    "from pylab import *\n",
    "fig = plt.figure(figsize=(12, 8)) \n",
    "\n",
    "subplot(3,1,1)\n",
    "xticks([]), yticks([])\n",
    "title('Daily trend of staff')\n",
    "plt.plot(GB1.index,GB1.user_id)\n",
    "\n",
    " \n",
    "subplot(3,1,2)\n",
    "xticks([]), yticks([])\n",
    "title('Daily Trend of all academic programs, excluding staff')\n",
    "plt.plot(GB4.index,GB4.user_id)\n",
    " \n",
    "    \n",
    "subplot(3,1,3)\n",
    "xticks([]), yticks([])\n",
    "title('Daily Trend of all academic programs,including staff')\n",
    "plt.plot(GB.index,GB.user_id)\n",
    " \n",
    "fig.savefig('sample_outcome/daily_trend.png')\n",
    "\n",
    "show()"
   ]
  },
  {
   "cell_type": "code",
   "execution_count": null,
   "metadata": {},
   "outputs": [],
   "source": []
  },
  {
   "cell_type": "code",
   "execution_count": 11,
   "metadata": {},
   "outputs": [],
   "source": [
    "#plt.style.available\n",
    "#plt.style.use('ggplot')"
   ]
  },
  {
   "cell_type": "code",
   "execution_count": 15,
   "metadata": {},
   "outputs": [
    {
     "data": {
      "text/plain": [
       "<Figure size 576x432 with 0 Axes>"
      ]
     },
     "metadata": {},
     "output_type": "display_data"
    },
    {
     "data": {
      "image/png": "[encoded data removed]",
      "text/plain": [
       "<Figure size 432x288 with 1 Axes>"
      ]
     },
     "metadata": {},
     "output_type": "display_data"
    }
   ],
   "source": [
    "g1=df.groupby([pd.Grouper(key='access_date', freq='D'),'on_or_off'])['on_or_off'].count().unstack().fillna(0)\n",
    "g1.sample()\n",
    "plt.figure(figsize=(8,6))\n",
    "g1.rolling('7D').sum().plot()\n",
    "fig.savefig('sample_outcome/on_off_trend2017-18.png')\n",
    "plt.show()"
   ]
  },
  {
   "cell_type": "markdown",
   "metadata": {},
   "source": []
  },
  {
   "cell_type": "code",
   "execution_count": 16,
   "metadata": {},
   "outputs": [
    {
     "data": {
      "image/png": "[encoded data removed]",
      "text/plain": [
       "<Figure size 432x288 with 1 Axes>"
      ]
     },
     "metadata": {},
     "output_type": "display_data"
    },
    {
     "data": {
      "image/png": "[encoded data removed]",
      "text/plain": [
       "<Figure size 432x288 with 1 Axes>"
      ]
     },
     "metadata": {},
     "output_type": "display_data"
    },
    {
     "name": "stdout",
     "output_type": "stream",
     "text": [
      "on_or_off  offcampus  oncampus\n",
      "prog_yr                       \n",
      "1            5792788   1187062\n",
      "2            5064208   1269888\n",
      "3            4984491   1276212\n",
      "4            2217474    631369\n",
      "G            1847067   1296424\n",
      "Other        9551736   3356273\n"
     ]
    }
   ],
   "source": [
    "\n",
    "#from statsmodels.graphics.mosaicplot import mosaic\n",
    "#fig=plt.gcf()\n",
    "#fig.set_size_inches(4,6)\n",
    "#mosaic(df.groupby([\"on_or_off\",'prog_yr']).size(),labelizer=lambda k:\"\")\n",
    "#plt.title(\"On or off campus and the distribution of program of year\")\n",
    "#plt.show()\n",
    "\n",
    "fig, ax = plt.subplots()\n",
    "df5=df.groupby(['prog_yr','on_or_off'])['prog_yr'].count().unstack().fillna(0)\n",
    "df5.plot.barh(stacked=True,alpha=0.7)\n",
    "ax.ticklabel_format(useOffset=False, style='plain')\n",
    "fig.savefig('sample_outcome/program_year_trend2017-18.png')\n",
    "\n",
    "plt.show()\n",
    "print(df5)\n",
    "\n",
    "#sns.barplot(x=\n"
   ]
  },
  {
   "cell_type": "markdown",
   "metadata": {
    "collapsed": true
   },
   "source": [
    "The table below shows the academic programs that are most active in using electronic resources. "
   ]
  },
  {
   "cell_type": "code",
   "execution_count": 171,
   "metadata": {},
   "outputs": [
    {
     "name": "stdout",
     "output_type": "stream",
     "text": [
      "Faculty/Department that are most active\n",
      "acad_prog\n",
      "staff                            12908009\n",
      "Bachelor of Arts                  4175517\n",
      "Business Management               2389397\n",
      "Bachelor of Engineering           1431940\n",
      "Collaborative Nursing Ryerson     1194688\n",
      "Social Work                        959254\n",
      "Bachelor of Science                957136\n",
      "Name: total, dtype: int64\n"
     ]
    }
   ],
   "source": [
    "#dfg=df1.groupby([\"acad_prog\",\"domain\"])['prog_yr'].count().fillna(0)\n",
    "\n",
    "dfdpt=df.groupby(\"acad_prog\")[\"user_id\"].count()\n",
    "\n",
    "dfdpt.describe()\n",
    "\n",
    "dfdpt=pd.DataFrame(dfdpt)\n",
    "col=[\"total\"]\n",
    "#dfdpt['acad_prog1']=dfdpt.index.values\n",
    "dfdpt.columns=col\n",
    "\n",
    "\n",
    "print(\"Faculty/Department that are most active\")\n",
    "print(dfdpt[\"total\"].sort_values(ascending=False)[:7])\n"
   ]
  },
  {
   "cell_type": "code",
   "execution_count": null,
   "metadata": {},
   "outputs": [],
   "source": [
    "#df1=df.set_index('access_date')\n",
    "#df1.drop(['user_id','url','domain'],axis=1)\n",
    "#df1.groupby(df.index.month.sum().head(10)\n",
    "#g = df1.groupby(pd.Grouper(freq=\"M\"))\n",
    "#GB=DF.groupby([(DF.index.year),(DF.index.month)]).count()\n",
    "#g.sum()"
   ]
  },
  {
   "cell_type": "code",
   "execution_count": null,
   "metadata": {},
   "outputs": [],
   "source": [
    "#g1=df.groupby(['on_or_off', pd.Grouper(key='access_date', freq='D')])['acad_prog'].count()\n",
    "#http://pbpython.com/pandas-grouper-agg.html\n",
    "#display(g1)"
   ]
  },
  {
   "cell_type": "markdown",
   "metadata": {
    "collapsed": true
   },
   "source": [
    "## Most popular databases domains\n",
    "The table below shows the Top 10 database domain. \n",
    "ProQuest has a much higher number because its domain provided access to 20+ databases. \n",
    "Further analysis is required\n"
   ]
  },
  {
   "cell_type": "code",
   "execution_count": null,
   "metadata": {},
   "outputs": [],
   "source": [
    "dfp2=df.groupby(\"domain\")['user_id'].count()\n",
    "\n",
    "dfp2=pd.DataFrame(dfp2)\n",
    "type(dfp2['user_id'])\n",
    "\n",
    "print(\"Top 7 Overall Databases\")\n",
    "Top10DbAll=dfp2['user_id'].sort_values(ascending=False)[:7]\n",
    "print(Top10DbAll)\n",
    "fig.set_size_inches(4,6)\n",
    "plt.style.use(\"ggplot\")\n",
    "Top10DbAll.plot(kind=\"barh\")\n",
    "plt.title(\"Top 10 Overall Databases\")\n",
    "fig.savefig('sample_outcome/Top10.png')\n",
    "\n",
    "plt.show()"
   ]
  },
  {
   "cell_type": "markdown",
   "metadata": {},
   "source": [
    "## Analysis of use of a particular databases "
   ]
  },
  {
   "cell_type": "code",
   "execution_count": 178,
   "metadata": {},
   "outputs": [],
   "source": [
    "dfg=df.groupby([\"domain\",\"acad_prog\",'prog_yr'])['prog_yr'].count().fillna(0)\n"
   ]
  },
  {
   "cell_type": "code",
   "execution_count": 193,
   "metadata": {},
   "outputs": [
    {
     "data": {
      "text/plain": [
       "domain                         acad_prog                      prog_yr\n",
       "18thcjournals.amdigital.co.uk  Arts and Contemporary Studies  1           16\n",
       "                                                              4           31\n",
       "                               Bachelor of Arts               1          608\n",
       "                                                              2           63\n",
       "                                                              3           32\n",
       "Name: prog_yr, dtype: int64"
      ]
     },
     "execution_count": 193,
     "metadata": {},
     "output_type": "execute_result"
    }
   ],
   "source": [
    "dfg.head()\n"
   ]
  },
  {
   "cell_type": "code",
   "execution_count": null,
   "metadata": {},
   "outputs": [],
   "source": [
    "dfg.to_csv(\"sample_outcome/domain_acad17-18.csv\")"
   ]
  },
  {
   "cell_type": "markdown",
   "metadata": {},
   "source": [
    "Please see Part 4 for details. Above is an example of what we can create with these data"
   ]
  },
  {
   "cell_type": "markdown",
   "metadata": {},
   "source": [
    "# Analysis of Specific Academic Program  \n",
    "The tables and graphs belows showed the specific details of two academic programs with most use, Business Management and Bachelor of Arts. \n",
    "Similar table and graphs can be created for other academic program\n",
    "\n",
    "## Business Management\n",
    "\n",
    "It should note that there are other business-related academic program, but Business Management is one of the programs that has highest usage stats. \n"
   ]
  },
  {
   "cell_type": "code",
   "execution_count": null,
   "metadata": {},
   "outputs": [],
   "source": [
    "#df=df.url.dropna(axis='rows')"
   ]
  },
  {
   "cell_type": "code",
   "execution_count": 65,
   "metadata": {},
   "outputs": [
    {
     "name": "stdout",
     "output_type": "stream",
     "text": [
      "Use of ER resources by business departments\n"
     ]
    },
    {
     "data": {
      "text/html": [
       "<div>\n",
       "<style scoped>\n",
       "    .dataframe tbody tr th:only-of-type {\n",
       "        vertical-align: middle;\n",
       "    }\n",
       "\n",
       "    .dataframe tbody tr th {\n",
       "        vertical-align: top;\n",
       "    }\n",
       "\n",
       "    .dataframe thead th {\n",
       "        text-align: right;\n",
       "    }\n",
       "</style>\n",
       "<table border=\"1\" class=\"dataframe\">\n",
       "  <thead>\n",
       "    <tr style=\"text-align: right;\">\n",
       "      <th></th>\n",
       "      <th>total</th>\n",
       "    </tr>\n",
       "    <tr>\n",
       "      <th>faculty</th>\n",
       "      <th></th>\n",
       "    </tr>\n",
       "  </thead>\n",
       "  <tbody>\n",
       "    <tr>\n",
       "      <th>Bus. Mgt. Part-Time</th>\n",
       "      <td>97848</td>\n",
       "    </tr>\n",
       "    <tr>\n",
       "      <th>Business Management</th>\n",
       "      <td>2389397</td>\n",
       "    </tr>\n",
       "    <tr>\n",
       "      <th>Business Special</th>\n",
       "      <td>2504</td>\n",
       "    </tr>\n",
       "    <tr>\n",
       "      <th>Business Tech Mgt CAAT</th>\n",
       "      <td>5901</td>\n",
       "    </tr>\n",
       "    <tr>\n",
       "      <th>Business Tech. Mgt. PT</th>\n",
       "      <td>28056</td>\n",
       "    </tr>\n",
       "    <tr>\n",
       "      <th>Business Technology Mgt.</th>\n",
       "      <td>259897</td>\n",
       "    </tr>\n",
       "    <tr>\n",
       "      <th>BusinessTech Mgt CAAT PT</th>\n",
       "      <td>2693</td>\n",
       "    </tr>\n",
       "    <tr>\n",
       "      <th>MBA Business Administration</th>\n",
       "      <td>5449</td>\n",
       "    </tr>\n",
       "    <tr>\n",
       "      <th>MBA Business Administration PT</th>\n",
       "      <td>38713</td>\n",
       "    </tr>\n",
       "  </tbody>\n",
       "</table>\n",
       "</div>"
      ],
      "text/plain": [
       "                                  total\n",
       "faculty                                \n",
       "Bus. Mgt. Part-Time               97848\n",
       "Business Management             2389397\n",
       "Business Special                   2504\n",
       "Business Tech Mgt CAAT             5901\n",
       "Business Tech. Mgt. PT            28056\n",
       "Business Technology Mgt.         259897\n",
       "BusinessTech Mgt CAAT PT           2693\n",
       "MBA Business Administration        5449\n",
       "MBA Business Administration PT    38713"
      ]
     },
     "metadata": {},
     "output_type": "display_data"
    }
   ],
   "source": [
    "dfdpt_bus=dfdpt.filter(like=\"Bus\",axis=0)    \n",
    "\n",
    "print(\"Use of ER resources by business departments\")\n",
    "display(dfdpt_bus)\n",
    "\n",
    "#dfdpt_bus.info()\n",
    "#dfdpt_bus.plot(kind=\"barh\")\n",
    "#plt.show()\n"
   ]
  },
  {
   "cell_type": "markdown",
   "metadata": {},
   "source": [
    "The table graph below showed the most widely used databases domain for business management. "
   ]
  },
  {
   "cell_type": "code",
   "execution_count": 20,
   "metadata": {},
   "outputs": [],
   "source": [
    "dfbus=df[df['acad_prog']==\"Business Management\"]\n",
    "\n",
    "#dfbus.info()\n",
    "dfdpt_bus=dfbus.groupby(\"domain\")['user_id'].count()\n",
    "\n",
    "dfdpt_bus=pd.DataFrame(dfdpt_bus)\n",
    "#dfdpt_bus.head()"
   ]
  },
  {
   "cell_type": "code",
   "execution_count": 21,
   "metadata": {},
   "outputs": [
    {
     "name": "stdout",
     "output_type": "stream",
     "text": [
      "Top 10 Overall Databases for Business Management\n",
      "domain\n",
      "proquest.com                    487432\n",
      "jstor.org                       277075\n",
      "lexis.com                       122122\n",
      "journals.scholarsportal.info    114550\n",
      "euromonitor.com                 101585\n",
      "galegroup.com                    88722\n",
      "clients1.ibisworld.ca            80162\n",
      "lexisnexis.com                   77778\n",
      "mergentonline.com                68585\n",
      "readspeaker.com                  66655\n",
      "Name: user_id, dtype: int64\n"
     ]
    },
    {
     "data": {
      "image/png": "[encoded data removed]",
      "text/plain": [
       "<Figure size 576x396 with 1 Axes>"
      ]
     },
     "metadata": {},
     "output_type": "display_data"
    }
   ],
   "source": [
    "dfpdpt_bus=pd.DataFrame(dfdpt_bus)\n",
    "type(dfdpt_bus['user_id'])\n",
    "\n",
    "print(\"Top 10 Overall Databases for Business Management\")\n",
    "Top10DbBus=dfpdpt_bus['user_id'].sort_values(ascending=False)[:10]\n",
    "print(Top10DbBus)\n",
    "Top10DbBus.plot(kind=\"barh\")\n",
    "plt.title(\"Top 10 Overall Databases for Business Management\")\n",
    "fig.savefig('sample_outcome/Bus1718_barplot.png')\n",
    "plt.show()\n"
   ]
  },
  {
   "cell_type": "markdown",
   "metadata": {},
   "source": [
    "## Bachelor of Arts \n",
    "Similarly, the graph and table below showed the most popular 10 databases domain for students in Bachelor of Arts \n"
   ]
  },
  {
   "cell_type": "code",
   "execution_count": 18,
   "metadata": {},
   "outputs": [],
   "source": [
    "dfart=df[df['acad_prog']==\"Bachelor of Arts\"]\n",
    "\n",
    "#dfbus.info()\n",
    "dfdpt_art=dfart.groupby(\"domain\")['user_id'].count()\n",
    "\n",
    "dfdpt_art=pd.DataFrame(dfdpt_art)\n",
    "#dfdpt_bus.head()"
   ]
  },
  {
   "cell_type": "code",
   "execution_count": 19,
   "metadata": {},
   "outputs": [
    {
     "name": "stdout",
     "output_type": "stream",
     "text": [
      "Top 10 Overall Databases for Bachelor of Arts\n",
      "domain\n",
      "proquest.com                    1115805\n",
      "jstor.org                        695102\n",
      "journals.scholarsportal.info     327050\n",
      "serialssolutions.com             183706\n",
      "sagepub.com                      163946\n",
      "wiley.com                        139814\n",
      "readspeaker.com                  133456\n",
      "google.com                       109185\n",
      "galegroup.com                    105219\n",
      "heinonline.org                   104645\n",
      "Name: user_id, dtype: int64\n"
     ]
    },
    {
     "data": {
      "image/png": "[encoded data removed]",
      "text/plain": [
       "<Figure size 576x396 with 1 Axes>"
      ]
     },
     "metadata": {},
     "output_type": "display_data"
    }
   ],
   "source": [
    "dfpdpt_art=pd.DataFrame(dfdpt_art)\n",
    "type(dfdpt_art['user_id'])\n",
    "\n",
    "print(\"Top 10 Overall Databases for Bachelor of Arts\")\n",
    "Top10DbArt=dfpdpt_art['user_id'].sort_values(ascending=False)[:10]\n",
    "print(Top10DbArt)\n",
    "plt.style.use(\"seaborn-notebook\")\n",
    "Top10DbArt.plot(kind=\"barh\")\n",
    "plt.title(\"Top 10 Overall Databases for Bachelor of Arts\")\n",
    "fig.savefig('sample_outcome/BA_1718_barplot.png')\n",
    "\n",
    "plt.show()"
   ]
  },
  {
   "cell_type": "raw",
   "metadata": {},
   "source": [
    "<script>\n",
    "  $(document).ready(function(){\n",
    "    $('div.prompt').hide();\n",
    "    $('div.back-to-top').hide();\n",
    "    $('nav#menubar').hide();\n",
    "    $('.breadcrumb').hide();\n",
    "    $('.hidden-print').hide();\n",
    "  });\n",
    "</script>\n",
    "\n",
    "<footer id=\"attribution\" style=\"float:right; color:#999; background:#fff;\">\n",
    "Created with Jupyter, delivered by Fastly, rendered by Rackspace.\n",
    "</footer>"
   ]
  }
 ],
 "metadata": {
  "kernelspec": {
   "display_name": "Python 3",
   "language": "python",
   "name": "python3"
  },
  "language_info": {
   "codemirror_mode": {
    "name": "ipython",
    "version": 3
   },
   "file_extension": ".py",
   "mimetype": "text/x-python",
   "name": "python",
   "nbconvert_exporter": "python",
   "pygments_lexer": "ipython3",
   "version": "3.6.5"
  }
 },
 "nbformat": 4,
 "nbformat_minor": 2
}
